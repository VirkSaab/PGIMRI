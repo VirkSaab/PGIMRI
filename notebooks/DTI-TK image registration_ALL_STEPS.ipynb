{
 "cells": [
  {
   "cell_type": "markdown",
   "metadata": {},
   "source": [
    "\n",
    "# DTI Image Registration Using Diffusion Tensor Imaging ToolKit (DTI-TK)\n",
    "## This notebook is my way of trying out DTI-TK image registration steps explained [here](http://dti-tk.sourceforge.net/pmwiki/pmwiki.php?n=Documentation.HomePage)\n",
    "## I created this notebook after [this](http://dti-tk.sourceforge.net/pmwiki/pmwiki.php?n=Documentation.FirstRegistration) example tutorial. This notebook will perform the suggested steps by DTI-TK for correct image registration.\n",
    "\n",
    "> should proceed by\n",
    ">    * Reading the tutorials on data format, visualization and checking diffusivity unit\n",
    ">    * Going through the detailed preprocessing tutorial\n",
    ">    * Studying the detailed registration tutorial."
   ]
  },
  {
   "cell_type": "markdown",
   "metadata": {},
   "source": [
    "# BASIC PROCESSING AND VISUALIZATION \n",
    "\n",
    "## [Interoperability in DTI-TK with FSL](http://dti-tk.sourceforge.net/pmwiki/pmwiki.php?n=Documentation.Interoperability)\n",
    "* Interoperability with FSL is straighforward using the `fsl_to_dtitk` script that converts a set of V[1-3] and L[1-3] dtifit files into the NIfTI tensor format that DTI-TK uses.\n",
    "\n",
    "* To convert back to the FSL format, use TVEigenSystem, e.g.\n",
    "\n",
    "        TVEigenSystem -in tensor.nii.gz -type FSL "
   ]
  },
  {
   "cell_type": "code",
   "execution_count": 1,
   "metadata": {
    "ExecuteTime": {
     "end_time": "2021-08-15T08:59:33.810174Z",
     "start_time": "2021-08-15T08:59:33.803789Z"
    }
   },
   "outputs": [],
   "source": [
    "import os\n",
    "from pathlib import Path\n",
    "from pgimri.config import PROCESSED_DTI_FILENAME"
   ]
  },
  {
   "cell_type": "code",
   "execution_count": 2,
   "metadata": {
    "ExecuteTime": {
     "end_time": "2021-08-15T08:59:34.046045Z",
     "start_time": "2021-08-15T08:59:33.925150Z"
    }
   },
   "outputs": [
    {
     "name": "stdout",
     "output_type": "stream",
     "text": [
      "../dtitk/bin/VolumeInfo\r\n"
     ]
    }
   ],
   "source": [
    "# This is similar to running following commands in terminal\n",
    "# export DTITK_ROOT=../dtitk\n",
    "# export PATH=${PATH}:${DTITK_ROOT}/bin:${DTITK_ROOT}/utilities:${DTITK_ROOT}/scripts\n",
    "dtitk_maindir = \"../dtitk\"\n",
    "os.environ[\"DTITK_ROOT\"] = dtitk_maindir\n",
    "os.environ[\"PATH\"] += f\":{dtitk_maindir}/bin:{dtitk_maindir}/utilities:{dtitk_maindir}/scripts\"\n",
    "!which VolumeInfo"
   ]
  },
  {
   "cell_type": "markdown",
   "metadata": {},
   "source": [
    "> * In practice, we recommend the users to use fsl_to_dtitk, a script that takes a FSL-generated DTI eigensystem volumes (non-brain tissue already removed) and converts them into fully DTI-TK compatible DTI volumes, i.e., both in the correct format and correctly preprocessed.\n",
    "> * The output from this program will be tensor_L{1,2,3}.nii.gz, the eigenvalues, and tensor_V{1,2,3}.nii.gz, the eigenvectors, following precisely the FSL naming convention.\n",
    "\n",
    "\n",
    "> * **WARNING**: FSL also has an option that allows for a DTI volume to be saved on disk in matrix form similar to but NOT the same as the NIfTI tensor format. It stores the six independent matrix components using the \"upper triangular\" order rather than the \"lower triangular\" order specified in NIfTI standard! (See Section about CAMINO above for definition of upper and lower triangular) So DO NOT use this option if you want to use its output with DTI-TK!"
   ]
  },
  {
   "cell_type": "code",
   "execution_count": 3,
   "metadata": {
    "ExecuteTime": {
     "end_time": "2021-08-15T08:59:35.327061Z",
     "start_time": "2021-08-15T08:59:35.204472Z"
    }
   },
   "outputs": [
    {
     "name": "stdout",
     "output_type": "stream",
     "text": [
      " DTI_ITC.ipynb\r\n",
      " dti_L1.nii.gz\r\n",
      " dti_L2.nii.gz\r\n",
      " dti_L3.nii.gz\r\n",
      "'DTI-TK image registration example.ipynb'\r\n",
      "'DTI-TK image registration.ipynb'\r\n",
      " dti_V1.nii.gz\r\n",
      " dti_V2.nii.gz\r\n",
      " dti_V3.nii.gz\r\n",
      " ixi_aging_template_brain_mask.nii.gz\r\n",
      " ixi_aging_template.nii.gz\r\n",
      " reference_axial_tensor.png\r\n",
      " reference_coronal_tensor.png\r\n",
      " subjects_list.txt\r\n"
     ]
    }
   ],
   "source": [
    "!ls"
   ]
  },
  {
   "cell_type": "code",
   "execution_count": 4,
   "metadata": {
    "ExecuteTime": {
     "end_time": "2021-08-15T08:59:37.815997Z",
     "start_time": "2021-08-15T08:59:35.819823Z"
    }
   },
   "outputs": [
    {
     "name": "stdout",
     "output_type": "stream",
     "text": [
      "Reading dti_L1.nii.gz ... Done in 0.009481s\n",
      "Reading dti_V1.nii.gz ... Done in 0.02099s\n",
      "Reading dti_L2.nii.gz ... Done in 0.00749s\n",
      "Reading dti_V2.nii.gz ... Done in 0.021442s\n",
      "Reading dti_L3.nii.gz ... Done in 0.006567s\n",
      "Reading dti_V3.nii.gz ... Done in 0.021247s\n",
      "Writing dti_dtitk.nii.gz ... Done in 0.182458s\n",
      "Reading dti_dtitk.nii.gz ... Done in 0.039885s\n",
      "Voxelwise scaling dti_dtitk.nii.gz by 1000 ... Done in 0.003107s\n",
      "Writing dti_dtitk.nii.gz ... Done in 0.176866s\n",
      "Reading dti_dtitk.nii.gz ... Done in 0.041417s\n",
      "Computing the tensor Euclidean norm map ... Done in 0.003678s\n",
      "Writing dti_dtitk_norm.nii.gz ... Done in 0.033514s\n",
      "Reading dti_dtitk.nii.gz ... Done in 0.039636s\n",
      "Reading dti_dtitk_norm_non_outliers.nii.gz ... Done in 0.002475s\n",
      "Masking dti_dtitk.nii.gz by dti_dtitk_norm_non_outliers.nii.gz ... Done in 0.000813s\n",
      "Writing dti_dtitk.nii.gz ... Done in 0.184281s\n",
      "Reading dti_dtitk.nii.gz ... Done in 0.039006s\n",
      "Converting dti_dtitk.nii.gz to be symmetric positive definite ... Done in 0.071193s\n",
      "Writing dti_dtitk_nonSPD.nii.gz ... Done in 0.011473s\n",
      "non-spd tensors count = 0\n",
      "Writing dti_dtitk.nii.gz ... Done in 0.177215s\n",
      "Reading dti_dtitk.nii.gz ... Done in 0.036803s\n",
      "input voxelspace : size: 112x112x48, voxel size: 1.60714x1.60714x2.5, origin: [-52.3866, 74.8451, 24.9148]\n",
      "output voxelspace : size: 112x112x48, voxel size: 1.60714x1.60714x2.5, origin: [0, 0, 0]\n",
      "Writing dti_dtitk.nii.gz ... Done in 0.176929s\n"
     ]
    }
   ],
   "source": [
    "# Convert FSL format to DTI-TK format for further processing\n",
    "# base_filepath = f\"../../data/DTI/processed_data/3_processed/S63080_HARSH_ITS/{PROCESSED_DTI_FILENAME}\"\n",
    "base_filepath = PROCESSED_DTI_FILENAME\n",
    "!fsl_to_dtitk {base_filepath} # The output basename will be `<PROCESSED_DTI_FILENAME>_dtitk...`"
   ]
  },
  {
   "cell_type": "markdown",
   "metadata": {},
   "source": [
    "## [VISUALIZING DTI IMAGES WITH DTI-TK](http://dti-tk.sourceforge.net/pmwiki/pmwiki.php?n=Documentation.VisualizationTool)\n",
    "\n",
    "### Below are reference views of how FA should look like:\n",
    "\n",
    "Axial View            |  Cornonal View\n",
    ":-------------------------:|:-------------------------:\n",
    "![reference_axial_tensor.png](reference_axial_tensor.png)  |  ![reference_coronal_tensor.png](reference_coronal_tensor.png)\n",
    "\n",
    "### Checking if tensors are correctly reconstructed\n",
    "An important utility of the tensor glyph rendering described above is for checking the correctness of your tensor reconstruction. A common mistake during tensor reconstruction (the process of constructing tensor volumes from diffusion-weighted images) is using a gradient table that is not corrected for the difference between the coordinate frame in which the gradient table is defined and the one in which the image is defined. This type of erroneous reconstruction can not be detected with the RGB map (explained above) and need to be ruled out with the tensor glyph rendering.\n",
    "\n",
    "The two steps are:\n",
    "\n",
    "1. Check if the tensors are oriented correctly in the genu and the splenium of the corpus callosum in the axial view (shown above). The tensors' major axes should be clearly aligned along the boundary of the genu and the splenium.\n",
    "2. Check if the tensors are oriented correctly in the internal capsule and the midbody of the corpus callosum in the coronal view (also shown above). Again, the tensors should be properly aligned with the boundary of these structures."
   ]
  },
  {
   "cell_type": "code",
   "execution_count": 5,
   "metadata": {
    "ExecuteTime": {
     "end_time": "2021-08-15T08:59:46.603363Z",
     "start_time": "2021-08-15T08:59:39.538009Z"
    }
   },
   "outputs": [
    {
     "name": "stdout",
     "output_type": "stream",
     "text": [
      "NIFTI Intent Code: NIFTI_INTENT_SYMMATRIX\n",
      "NIFTI Orientation Code: LPI\n",
      "Volume Info of dti_dtitk.nii.gz\n",
      "size: 112x112x48, voxel size: 1.60714x1.60714x2.5, origin: [0, 0, 0]\n",
      "Reading dti_dtitk.nii.gz ... Done in 0.041946s\n",
      "press the key 'H' to print a list of the available control keystrokes\n",
      "total number of colors = 262144\n",
      "processing the selected axial slice ... done rendering \n"
     ]
    }
   ],
   "source": [
    "# Check the new volumes\n",
    "dtitk_path = f\"{base_filepath}_dtitk.nii.gz\"\n",
    "\n",
    "# Display basic volume info\n",
    "!VolumeInfo {dtitk_path}\n",
    "\n",
    "# Viewing the tensors using 3D ellipsoid glyphs\n",
    "!TVglyphView -in {dtitk_path}\n",
    "\n",
    "# Other ways to visualize\n",
    "# !TVglyphView -in {dtitk_path} -scale 2 -view axial\n",
    "# !TVglyphView -in {dtitk_path} -scale 2 -view coronal"
   ]
  },
  {
   "cell_type": "markdown",
   "metadata": {},
   "source": [
    "# SPATIAL NORMALIZATION AND ATLAS CONSTRUCTION \n",
    "\n",
    "## [PREPROCESSING OF VOLUMES BEFORE REGISTRATION](http://dti-tk.sourceforge.net/pmwiki/pmwiki.php?n=Documentation.BeforeReg)\n",
    "\n",
    "### [**IMP**] Make Sure DTI Volumes are Using the Correct Diffusivity Unit. [More details here](http://dti-tk.sourceforge.net/pmwiki/pmwiki.php?n=Documentation.Diffusivity)\n",
    "* **The unit used by DTI-TK is $10^{-3}mm^2.s^{-1}$**. With this unit, the mean diffusivity for CSF is around 3. You want to make sure your DTI volumes are stored in the correct unit.\n",
    "\n",
    "* for diffusion-weighting, b-value of 800 s.mm-2 is used during the acquisition, and you input the number 800 as the b-value to your tensor reconstruction program, then the output DTI volume will have the unit of mm2.s-1.\n",
    "\n",
    "* if your DTI volumes use the unit of mm2.s-1, then the multiplication factor should be 1,000. If your unit is m2.s-1, then the factor should be $10^9$."
   ]
  },
  {
   "cell_type": "code",
   "execution_count": 6,
   "metadata": {
    "ExecuteTime": {
     "end_time": "2021-08-15T09:00:13.146241Z",
     "start_time": "2021-08-15T09:00:13.143596Z"
    }
   },
   "outputs": [],
   "source": [
    "# Unit of Diffusivity correction\n",
    "# dtitk_scaled_path = dtitk_path.replace(\"_dtitk.nii.gz\", \"_dtitk_scaled.nii.gz\")\n",
    "# !TVtool -in {dtitk_path} -scale 1000 -out {dtitk_scaled_path}"
   ]
  },
  {
   "cell_type": "code",
   "execution_count": 7,
   "metadata": {
    "ExecuteTime": {
     "end_time": "2021-08-15T09:00:13.382864Z",
     "start_time": "2021-08-15T09:00:13.378663Z"
    }
   },
   "outputs": [],
   "source": [
    "# Check scaled file\n",
    "\n",
    "#! [WARNING]: Do not run without scaling down. System will hang because of too heavy rendering.\n",
    "# !TVglyphView -in {dtitk_scaled_path} -scale 0.001"
   ]
  },
  {
   "cell_type": "markdown",
   "metadata": {},
   "source": [
    "### Remove Non-Brain Tissues (Already completed this step in `process-subject` function)\n",
    "To do this, our recommended protocol is to use the excellent Brain Extraction Tool, aka BET, available as part of the FSL suite. Once you have computed the brain tissue mask and are satisfied with its quality, you can apply it to the corresponding DTI volume with the following command:\n",
    "\n",
    "        TVtool -in tensor.nii.gz -out mtensor.nii.gz -mask b0_mask.nii.gz\n",
    "\n",
    "Comment:\n",
    "* A good quality brain mask should not remove any brain tissues and keep non-brain tissue at a minimum.\n",
    "* DTI-TK expects b0_mask.nii.gz to be 0 for the background and 1 for brain tissues."
   ]
  },
  {
   "cell_type": "code",
   "execution_count": 8,
   "metadata": {
    "ExecuteTime": {
     "end_time": "2021-08-15T09:00:16.467108Z",
     "start_time": "2021-08-15T09:00:16.464866Z"
    }
   },
   "outputs": [],
   "source": [
    "#! TRY ADDING THIS STEP TO SEE IF ANYTHING IMPROVES"
   ]
  },
  {
   "cell_type": "markdown",
   "metadata": {},
   "source": [
    "### Make Sure DTI Volumes are SPD\n",
    "[**NOTE**] Adding this step before norm because norm volume does not process SPD. So, norm will be applied after SPD.\n",
    "Diffusion tensors, by definition, are symmetric and positive-definite matrices, or SPD. However, in practice, due to noises in the DWI images, the diffusion tensors estimated within a DTI volume are not always SPD. The SPD condition is very important however to ensure DTI volumes behave properly after various image processing steps. DTI-TK provides a simple tool that identifies the voxels that are not SPD and enforces this condition on such voxels. The tool TVtool can be used as follows:\n",
    "\n",
    "        TVtool -in tensor.nii.gz -spd -out spd.nii.gz"
   ]
  },
  {
   "cell_type": "code",
   "execution_count": 9,
   "metadata": {
    "ExecuteTime": {
     "end_time": "2021-08-15T08:55:37.169915Z",
     "start_time": "2021-08-15T08:55:36.649171Z"
    }
   },
   "outputs": [
    {
     "name": "stdout",
     "output_type": "stream",
     "text": [
      "Reading dti_dtitk_scaled.nii.gz ... Done in 0.04149s\n",
      "Converting dti_dtitk_scaled.nii.gz to be symmetric positive definite ... Done in 0.074475s\n",
      "Writing dti_dtitk_scaled_nonSPD.nii.gz ... Done in 0.012321s\n",
      "non-spd tensors count = 0\n",
      "Writing dti_dtitk_scaled_spd.nii.gz ... Done in 0.185327s\n"
     ]
    }
   ],
   "source": [
    "dtitk_spd_path = dtitk_scaled_path.replace(\"dtitk_scaled.nii.gz\", \"dtitk_scaled_spd.nii.gz\")\n",
    "\n",
    "# Just make sure from the output that tensor count in non-spd file is zero.\n",
    "!TVtool -in {dtitk_scaled_path} -spd -out {dtitk_spd_path}"
   ]
  },
  {
   "cell_type": "markdown",
   "metadata": {},
   "source": [
    "### Make Sure DTI Volumes Contain No Significant Outliers\n",
    "Outliers often don't have any effect on image registration. However, when the outliers are substantially outside the normal range, they will. A good indicator that the outliers are worthy of concerns is when their existence distorts the mean significantly.\n",
    "\n",
    "        TVtool -in tensor.nii.gz -norm\n",
    "which outputs the tensor norm image as tensor_norm.nii.gz, and\n",
    "\n",
    "        SVtool -in tensor_norm.nii.gz -stats"
   ]
  },
  {
   "cell_type": "code",
   "execution_count": 10,
   "metadata": {
    "ExecuteTime": {
     "end_time": "2021-08-15T08:56:21.483759Z",
     "start_time": "2021-08-15T08:56:21.227492Z"
    }
   },
   "outputs": [
    {
     "name": "stdout",
     "output_type": "stream",
     "text": [
      "Reading dti_dtitk_scaled_spd.nii.gz ... Done in 0.041808s\n",
      "Computing the tensor Euclidean norm map ... Done in 0.003954s\n",
      "Writing dti_dtitk_scaled_spd_norm.nii.gz ... Done in 0.032403s\n",
      "Saved @ dti_dtitk_scaled_spd_norm.nii.gz\n"
     ]
    }
   ],
   "source": [
    "# Normalize\n",
    "!TVtool -in {dtitk_spd_path} -norm\n",
    "\n",
    "dtitk_norm_path = dtitk_spd_path.replace(\"dtitk_scaled_spd.nii.gz\", \"dtitk_scaled_spd_norm.nii.gz\")\n",
    "\n",
    "print(\"Saved @\", dtitk_norm_path)\n"
   ]
  },
  {
   "cell_type": "markdown",
   "metadata": {},
   "source": [
    "### Check Whether DTI Volumes Share one Common Voxel Space\n",
    "It's recommended to set all the origin to [0, 0, 0] and this can be done with \"TVAdjustVoxelspace\".\n",
    "\n",
    "        TVAdjustVoxelspace -in tensor.nii.gz -origin 0 0 0"
   ]
  },
  {
   "cell_type": "code",
   "execution_count": 11,
   "metadata": {
    "ExecuteTime": {
     "end_time": "2021-08-15T08:58:21.767212Z",
     "start_time": "2021-08-15T08:58:21.640236Z"
    }
   },
   "outputs": [
    {
     "name": "stdout",
     "output_type": "stream",
     "text": [
      "NIFTI Intent Code: NIFTI_INTENT_NONE\r\n",
      "NIFTI Orientation Code: LPI\r\n",
      "Volume Info of dti_dtitk_scaled_spd_norm.nii.gz\r\n",
      "size: 112x112x48, voxel size: 1.60714x1.60714x2.5, origin: [0, 0, 0]\r\n"
     ]
    }
   ],
   "source": [
    "# Display basic volume info (it is alerady there, but do include these steps anyway in the registration pipeline)\n",
    "!VolumeInfo {dtitk_norm_path}"
   ]
  },
  {
   "cell_type": "code",
   "execution_count": 13,
   "metadata": {
    "ExecuteTime": {
     "end_time": "2021-08-15T08:58:43.068787Z",
     "start_time": "2021-08-15T08:58:42.793269Z"
    }
   },
   "outputs": [
    {
     "name": "stdout",
     "output_type": "stream",
     "text": [
      "Reading dti_dtitk_scaled_spd_norm.nii.gz ... Warning: Volume uses unexpected NIfTI intent code\r\n",
      "Done in 0.007372s\r\n"
     ]
    }
   ],
   "source": [
    "# Visualize\n",
    "!TVglyphView -in {dtitk_spd_path} -scale 0.001"
   ]
  },
  {
   "cell_type": "markdown",
   "metadata": {},
   "source": [
    "It is important to resample the volumes that do not share the same voxel spacing as the rest of the volumes. This is usually never an issue unless you are trying to combine data acquired with different protocols. The tool for resampling tensor volumes is TVResample.\n",
    "It's ideal but not necessary that all the volumes have the same voxel dimensions. This situation may arise when the same protocol is used if the operator decides to optimze the number of slices to acquire. Not having the same voxel dimensions (z dimension in most cases) may reduce the initial bootstrapped template estimate. Visual inspection can be used to verify if this is a serious issue or not.\n",
    "\n",
    "## SHOULD I DO RESAMPLING? (check back after trying registration for any significant difference.)"
   ]
  },
  {
   "cell_type": "markdown",
   "metadata": {},
   "source": [
    "## [REGISTRATION AND SPATIAL NORMALIZATION OF DTI VOLUMES](http://dti-tk.sourceforge.net/pmwiki/pmwiki.php?n=Documentation.Registration)\n",
    "\n",
    "The spatial normalization pipeline includes the following five steps:\n",
    "\n",
    "1. Preprocessing of the input DTI volumes\n",
    "2. Bootstrapping the initial DTI template from the input DTI volumes. While Bootstrap with the help of an existing tensor template, step 3 should be skipped. (Which is true in our case. Therefore, we will skip step 3)\n",
    "3. Rigid alignment with template refinement\n",
    "4. Affine alignment with template refinement\n",
    "5. Deformable alignment with template refinement\n",
    "\n",
    "Where step 1 is already performed above."
   ]
  },
  {
   "cell_type": "markdown",
   "metadata": {},
   "source": [
    "#### Step 2. Bootstrapping the initial DTI template from the input DTI volumes"
   ]
  },
  {
   "cell_type": "code",
   "execution_count": null,
   "metadata": {},
   "outputs": [],
   "source": [
    "# template_path = \"../../nihpd_templates/nihpd_asym_00-02_mask.nii\"\n",
    "template_path = \"ixi_aging_template.nii.gz\"\n",
    "\n",
    "# Create a subject list file\n",
    "with open(\"subjects_list.txt\", 'w') as wf:\n",
    "    wf.write(f\"{Path(dtitk_spd_path).resolve().absolute()}\\n\")"
   ]
  },
  {
   "cell_type": "code",
   "execution_count": null,
   "metadata": {},
   "outputs": [],
   "source": [
    "#! [WARNING] NORM files does not work. Use SPD\n",
    "!dti_template_bootstrap {template_path} subjects_list.txt"
   ]
  },
  {
   "cell_type": "code",
   "execution_count": null,
   "metadata": {},
   "outputs": [],
   "source": [
    "# output affine filepath\n",
    "dtitk_aff_path = dtitk_spd_path.replace(\"dtitk_scaled_spd.nii.gz\", \"dtitk_scaled_spd_aff.nii.gz\")\n",
    "\n",
    "!TVglyphView -in {dtitk_aff_path} -scale 0.001 -view cornonal"
   ]
  },
  {
   "cell_type": "markdown",
   "metadata": {},
   "source": [
    "#### 4. Affine alignment with template refinement"
   ]
  },
  {
   "cell_type": "code",
   "execution_count": null,
   "metadata": {},
   "outputs": [],
   "source": [
    "!dti_affine_population mean_initial.nii.gz subjects_list.txt EDS 3"
   ]
  },
  {
   "cell_type": "code",
   "execution_count": null,
   "metadata": {},
   "outputs": [],
   "source": [
    "# !TVglyphView -in mean_affine3.nii.gz -scale 0.001"
   ]
  },
  {
   "cell_type": "code",
   "execution_count": null,
   "metadata": {},
   "outputs": [],
   "source": [
    "!TVglyphView -in {dtitk_aff_path} -scale 0.001"
   ]
  },
  {
   "cell_type": "markdown",
   "metadata": {},
   "source": [
    "#### 5. Deformable alignment with template refinement"
   ]
  },
  {
   "cell_type": "code",
   "execution_count": null,
   "metadata": {},
   "outputs": [],
   "source": [
    "!TVtool -in mean_affine3.nii.gz -tr\n",
    "!BinaryThresholdImageFilter mean_affine3_tr.nii.gz mask.nii.gz 0.01 100 1 0"
   ]
  },
  {
   "cell_type": "code",
   "execution_count": null,
   "metadata": {},
   "outputs": [],
   "source": [
    "# Really important to check that the mask is appropriate before embarking on the next most time-consuming step.\n",
    "!dti_diffeomorphic_population mean_affine3.nii.gz subjects_list_aff.txt mask.nii.gz 0.002"
   ]
  },
  {
   "cell_type": "code",
   "execution_count": null,
   "metadata": {},
   "outputs": [],
   "source": [
    "!VolumeInfo mean_affine3.nii.gz"
   ]
  },
  {
   "cell_type": "code",
   "execution_count": null,
   "metadata": {},
   "outputs": [],
   "source": [
    "!VolumeInfo {template_path}"
   ]
  },
  {
   "cell_type": "code",
   "execution_count": null,
   "metadata": {},
   "outputs": [],
   "source": []
  },
  {
   "cell_type": "code",
   "execution_count": null,
   "metadata": {},
   "outputs": [],
   "source": []
  }
 ],
 "metadata": {
  "interpreter": {
   "hash": "578ec9caf8cc242a4c89e04db44ac9c7b7fb212b1d2b4d4eaf8e4d24b84632db"
  },
  "kernelspec": {
   "display_name": "Python 3 (ipykernel)",
   "language": "python",
   "name": "python3"
  },
  "language_info": {
   "codemirror_mode": {
    "name": "ipython",
    "version": 3
   },
   "file_extension": ".py",
   "mimetype": "text/x-python",
   "name": "python",
   "nbconvert_exporter": "python",
   "pygments_lexer": "ipython3",
   "version": "3.8.10"
  },
  "latex_envs": {
   "LaTeX_envs_menu_present": true,
   "autoclose": false,
   "autocomplete": true,
   "bibliofile": "biblio.bib",
   "cite_by": "apalike",
   "current_citInitial": 1,
   "eqLabelWithNumbers": true,
   "eqNumInitial": 1,
   "hotkeys": {
    "equation": "Ctrl-E",
    "itemize": "Ctrl-I"
   },
   "labels_anchors": false,
   "latex_user_defs": false,
   "report_style_numbering": false,
   "user_envs_cfg": false
  }
 },
 "nbformat": 4,
 "nbformat_minor": 2
}
