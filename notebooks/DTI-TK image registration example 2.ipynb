{
 "cells": [
  {
   "cell_type": "markdown",
   "metadata": {},
   "source": [
    "# DTI-TK Example - First Registration with DTI-TK"
   ]
  },
  {
   "cell_type": "code",
   "execution_count": 1,
   "metadata": {
    "ExecuteTime": {
     "end_time": "2021-08-15T08:35:34.450853Z",
     "start_time": "2021-08-15T08:35:34.441164Z"
    }
   },
   "outputs": [],
   "source": [
    "import os\n",
    "from pathlib import Path\n",
    "from pgimri.config import PROCESSED_DTI_FILENAME"
   ]
  },
  {
   "cell_type": "code",
   "execution_count": 2,
   "metadata": {
    "ExecuteTime": {
     "end_time": "2021-08-15T08:35:35.048420Z",
     "start_time": "2021-08-15T08:35:34.927371Z"
    }
   },
   "outputs": [
    {
     "name": "stdout",
     "output_type": "stream",
     "text": [
      "../dtitk/bin/VolumeInfo\r\n"
     ]
    }
   ],
   "source": [
    "# This is similar to running following commands in terminal\n",
    "# export DTITK_ROOT=../dtitk\n",
    "# export PATH=${PATH}:${DTITK_ROOT}/bin:${DTITK_ROOT}/utilities:${DTITK_ROOT}/scripts\n",
    "dtitk_maindir = \"../dtitk\"\n",
    "os.environ[\"DTITK_ROOT\"] = dtitk_maindir\n",
    "os.environ[\"PATH\"] += f\":{dtitk_maindir}/bin:{dtitk_maindir}/utilities:{dtitk_maindir}/scripts\"\n",
    "!which VolumeInfo"
   ]
  },
  {
   "cell_type": "markdown",
   "metadata": {},
   "source": [
    "## [VISUALIZING DTI IMAGES WITH DTI-TK](http://dti-tk.sourceforge.net/pmwiki/pmwiki.php?n=Documentation.VisualizationTool)\n",
    "\n",
    "### Below are reference views of how FA should look like:\n",
    "\n",
    "Axial View            |  Cornonal View\n",
    ":-------------------------:|:-------------------------:\n",
    "![reference_axial_tensor.png](reference_axial_tensor.png)  |  ![reference_coronal_tensor.png](reference_coronal_tensor.png)\n",
    "\n",
    "### Checking if tensors are correctly reconstructed\n",
    "An important utility of the tensor glyph rendering described above is for checking the correctness of your tensor reconstruction. A common mistake during tensor reconstruction (the process of constructing tensor volumes from diffusion-weighted images) is using a gradient table that is not corrected for the difference between the coordinate frame in which the gradient table is defined and the one in which the image is defined. This type of erroneous reconstruction can not be detected with the RGB map (explained above) and need to be ruled out with the tensor glyph rendering.\n",
    "\n",
    "The two steps are:\n",
    "\n",
    "1. Check if the tensors are oriented correctly in the genu and the splenium of the corpus callosum in the axial view (shown above). The tensors' major axes should be clearly aligned along the boundary of the genu and the splenium.\n",
    "2. Check if the tensors are oriented correctly in the internal capsule and the midbody of the corpus callosum in the coronal view (also shown above). Again, the tensors should be properly aligned with the boundary of these structures."
   ]
  },
  {
   "cell_type": "code",
   "execution_count": 4,
   "metadata": {
    "ExecuteTime": {
     "end_time": "2021-08-15T08:35:48.962954Z",
     "start_time": "2021-08-15T08:35:48.847668Z"
    }
   },
   "outputs": [
    {
     "name": "stdout",
     "output_type": "stream",
     "text": [
      "NIFTI Intent Code: NIFTI_INTENT_SYMMATRIX\r\n",
      "NIFTI Orientation Code: RPI\r\n",
      "Volume Info of /home/virk/Downloads/dtitk_samples/tensor.nii.gz\r\n",
      "size: 112x112x60, voxel size: 2x2x2, origin: [-55.66, 32.4, 24.78]\r\n"
     ]
    }
   ],
   "source": [
    "### Check the new volumes\n",
    "dtitk_path = \"~/Downloads/dtitk_samples/runtime/tensor.nii.gz\"\n",
    "\n",
    "# Display basic volume info\n",
    "!VolumeInfo {dtitk_path}\n",
    "\n",
    "# Viewing the tensors using 3D ellipsoid glyphs\n",
    "# !TVglyphView -in {dtitk_path}\n",
    "\n",
    "# Other ways to visualize\n",
    "# !TVglyphView -in {dtitk_path} -scale 2 -view axial\n",
    "# !TVglyphView -in {dtitk_path} -scale 2 -view coronal"
   ]
  },
  {
   "cell_type": "markdown",
   "metadata": {},
   "source": [
    "# SPATIAL NORMALIZATION AND ATLAS CONSTRUCTION \n",
    "\n",
    "## [PREPROCESSING OF VOLUMES BEFORE REGISTRATION](http://dti-tk.sourceforge.net/pmwiki/pmwiki.php?n=Documentation.BeforeReg)\n",
    "\n",
    "### [**IMP**] Make Sure DTI Volumes are Using the Correct Diffusivity Unit. [More details here](http://dti-tk.sourceforge.net/pmwiki/pmwiki.php?n=Documentation.Diffusivity)\n",
    "* **The unit used by DTI-TK is $10^{-3}mm^2.s^{-1}$**. With this unit, the mean diffusivity for CSF is around 3. You want to make sure your DTI volumes are stored in the correct unit.\n",
    "\n",
    "* for diffusion-weighting, b-value of 800 s.mm-2 is used during the acquisition, and you input the number 800 as the b-value to your tensor reconstruction program, then the output DTI volume will have the unit of mm2.s-1.\n",
    "\n",
    "* if your DTI volumes use the unit of mm2.s-1, then the multiplication factor should be 1,000. If your unit is m2.s-1, then the factor should be $10^9$."
   ]
  },
  {
   "cell_type": "code",
   "execution_count": 5,
   "metadata": {},
   "outputs": [
    {
     "name": "stdout",
     "output_type": "stream",
     "text": [
      "Reading dti_dtitk.nii.gz ... Done in 0.044059s\n",
      "Voxelwise scaling dti_dtitk.nii.gz by 1000 ... Done in 0.003613s\n",
      "Writing dti_dtitk_scaled.nii.gz ... Done in 0.215084s\n"
     ]
    }
   ],
   "source": [
    "# Unit of Diffusivity correction\n",
    "dtitk_scaled_path = dtitk_path.replace(\"_dtitk.nii.gz\", \"_dtitk_scaled.nii.gz\")\n",
    "!TVtool -in {dtitk_path} -scale 1000 -out {dtitk_scaled_path}"
   ]
  },
  {
   "cell_type": "code",
   "execution_count": 6,
   "metadata": {},
   "outputs": [
    {
     "name": "stdout",
     "output_type": "stream",
     "text": [
      "Reading dti_dtitk_scaled.nii.gz ... Done in 0.045665s\n",
      "press the key 'H' to print a list of the available control keystrokes\n",
      "total number of colors = 262144\n",
      "processing the selected axial slice ... done rendering \n"
     ]
    }
   ],
   "source": [
    "# Check scaled file\n",
    "\n",
    "#! [WARNING]: Do not run without scaling down. System will hang because of too heavy rendering.\n",
    "# !TVglyphView -in {dtitk_scaled_path} -scale 0.001"
   ]
  },
  {
   "cell_type": "markdown",
   "metadata": {},
   "source": [
    "### Remove Non-Brain Tissues (Already completed this step in `process-subject` function)\n",
    "To do this, our recommended protocol is to use the excellent Brain Extraction Tool, aka BET, available as part of the FSL suite. Once you have computed the brain tissue mask and are satisfied with its quality, you can apply it to the corresponding DTI volume with the following command:\n",
    "\n",
    "        TVtool -in tensor.nii.gz -out mtensor.nii.gz -mask b0_mask.nii.gz\n",
    "\n",
    "Comment:\n",
    "* A good quality brain mask should not remove any brain tissues and keep non-brain tissue at a minimum.\n",
    "* DTI-TK expects b0_mask.nii.gz to be 0 for the background and 1 for brain tissues."
   ]
  },
  {
   "cell_type": "code",
   "execution_count": null,
   "metadata": {},
   "outputs": [],
   "source": [
    "#! TRY ADDING THIS STEP TO SEE IF ANYTHING IMPROVES"
   ]
  },
  {
   "cell_type": "markdown",
   "metadata": {},
   "source": [
    "### Make Sure DTI Volumes are SPD\n",
    "[**NOTE**] Adding this step before norm because norm volume does not process SPD. So, norm will be applied after SPD.\n",
    "Diffusion tensors, by definition, are symmetric and positive-definite matrices, or SPD. However, in practice, due to noises in the DWI images, the diffusion tensors estimated within a DTI volume are not always SPD. The SPD condition is very important however to ensure DTI volumes behave properly after various image processing steps. DTI-TK provides a simple tool that identifies the voxels that are not SPD and enforces this condition on such voxels. The tool TVtool can be used as follows:\n",
    "\n",
    "        TVtool -in tensor.nii.gz -spd -out spd.nii.gz"
   ]
  },
  {
   "cell_type": "code",
   "execution_count": null,
   "metadata": {},
   "outputs": [],
   "source": [
    "dtitk_spd_path = dtitk_scaled_path.replace(\"dtitk_scaled.nii.gz\", \"dtitk_scaled_spd.nii.gz\")\n",
    "\n",
    "# Just make sure from the output that tensor count in non-spd file is zero.\n",
    "!TVtool -in {dtitk_scaled_path} -spd -out {dtitk_spd_path}"
   ]
  },
  {
   "cell_type": "markdown",
   "metadata": {},
   "source": [
    "### Make Sure DTI Volumes Contain No Significant Outliers\n",
    "Outliers often don't have any effect on image registration. However, when the outliers are substantially outside the normal range, they will. A good indicator that the outliers are worthy of concerns is when their existence distorts the mean significantly.\n",
    "\n",
    "        TVtool -in tensor.nii.gz -norm\n",
    "which outputs the tensor norm image as tensor_norm.nii.gz, and\n",
    "\n",
    "        SVtool -in tensor_norm.nii.gz -stats"
   ]
  },
  {
   "cell_type": "code",
   "execution_count": null,
   "metadata": {},
   "outputs": [],
   "source": [
    "# Normalize\n",
    "!TVtool -in {dtitk_spd_path} -norm\n",
    "\n",
    "dtitk_norm_path = dtitk_spd_path.replace(\"dtitk_scaled_spd.nii.gz\", \"dtitk_scaled_spd_norm.nii.gz\")\n",
    "\n",
    "print(\"Saved @\", dtitk_norm_path)\n"
   ]
  },
  {
   "cell_type": "markdown",
   "metadata": {},
   "source": [
    "### Check Whether DTI Volumes Share one Common Voxel Space\n",
    "It's recommended to set all the origin to [0, 0, 0] and this can be done with \"TVAdjustVoxelspace\".\n",
    "\n",
    "        TVAdjustVoxelspace -in tensor.nii.gz -origin 0 0 0"
   ]
  },
  {
   "cell_type": "code",
   "execution_count": null,
   "metadata": {},
   "outputs": [],
   "source": [
    "# Display basic volume info (it is alerady there, but do include these steps anyway in the registration pipeline)\n",
    "!VolumeInfo {dtitk_norm_path}"
   ]
  },
  {
   "cell_type": "code",
   "execution_count": null,
   "metadata": {},
   "outputs": [],
   "source": [
    "# Visualize\n",
    "!TVglyphView -in {dtitk_spd_path} -scale 0.001"
   ]
  },
  {
   "cell_type": "markdown",
   "metadata": {},
   "source": [
    "It is important to resample the volumes that do not share the same voxel spacing as the rest of the volumes. This is usually never an issue unless you are trying to combine data acquired with different protocols. The tool for resampling tensor volumes is TVResample.\n",
    "It's ideal but not necessary that all the volumes have the same voxel dimensions. This situation may arise when the same protocol is used if the operator decides to optimze the number of slices to acquire. Not having the same voxel dimensions (z dimension in most cases) may reduce the initial bootstrapped template estimate. Visual inspection can be used to verify if this is a serious issue or not.\n",
    "\n",
    "## SHOULD I DO RESAMPLING? (check back after trying registration for any significant difference.)"
   ]
  },
  {
   "cell_type": "markdown",
   "metadata": {},
   "source": [
    "## [REGISTRATION AND SPATIAL NORMALIZATION OF DTI VOLUMES](http://dti-tk.sourceforge.net/pmwiki/pmwiki.php?n=Documentation.Registration)\n",
    "\n",
    "The spatial normalization pipeline includes the following five steps:\n",
    "\n",
    "1. Preprocessing of the input DTI volumes\n",
    "2. Bootstrapping the initial DTI template from the input DTI volumes. While Bootstrap with the help of an existing tensor template, step 3 should be skipped. (Which is true in our case. Therefore, we will skip step 3)\n",
    "3. Rigid alignment with template refinement\n",
    "4. Affine alignment with template refinement\n",
    "5. Deformable alignment with template refinement\n",
    "\n",
    "Where step 1 is already performed above."
   ]
  },
  {
   "cell_type": "markdown",
   "metadata": {},
   "source": [
    "#### Step 2. Bootstrapping the initial DTI template from the input DTI volumes"
   ]
  },
  {
   "cell_type": "code",
   "execution_count": null,
   "metadata": {},
   "outputs": [],
   "source": [
    "# template_path = \"../../nihpd_templates/nihpd_asym_00-02_mask.nii\"\n",
    "template_path = \"../../ixi_adult_template.nii.gz\"\n",
    "\n",
    "# Create a subject list file\n",
    "with open(\"subjects_list.txt\", 'w') as wf:\n",
    "    wf.write(f\"{Path(dtitk_spd_path).resolve().absolute()}\\n\")"
   ]
  },
  {
   "cell_type": "code",
   "execution_count": null,
   "metadata": {},
   "outputs": [],
   "source": [
    "#! [WARNING] NORM files does not work. Use SPD\n",
    "!dti_template_bootstrap {template_path} subjects_list.txt"
   ]
  },
  {
   "cell_type": "code",
   "execution_count": null,
   "metadata": {},
   "outputs": [],
   "source": [
    "# output affine filepath\n",
    "dtitk_aff_path = dtitk_spd_path.replace(\"dtitk_scaled_spd.nii.gz\", \"dtitk_scaled_spd_aff.nii.gz\")\n",
    "\n",
    "!TVglyphView -in {dtitk_aff_path} -scale 0.001 -view cornonal"
   ]
  },
  {
   "cell_type": "markdown",
   "metadata": {},
   "source": [
    "#### 4. Affine alignment with template refinement"
   ]
  },
  {
   "cell_type": "code",
   "execution_count": null,
   "metadata": {},
   "outputs": [],
   "source": [
    "!dti_affine_population mean_initial.nii.gz subjects_list.txt EDS 3"
   ]
  },
  {
   "cell_type": "code",
   "execution_count": null,
   "metadata": {},
   "outputs": [],
   "source": [
    "# !TVglyphView -in mean_affine3.nii.gz -scale 0.001"
   ]
  },
  {
   "cell_type": "code",
   "execution_count": null,
   "metadata": {},
   "outputs": [],
   "source": [
    "!TVglyphView -in {dtitk_aff_path} -scale 0.001"
   ]
  },
  {
   "cell_type": "markdown",
   "metadata": {},
   "source": [
    "#### 5. Deformable alignment with template refinement"
   ]
  },
  {
   "cell_type": "code",
   "execution_count": null,
   "metadata": {},
   "outputs": [],
   "source": [
    "!TVtool -in mean_affine3.nii.gz -tr\n",
    "!BinaryThresholdImageFilter mean_affine3_tr.nii.gz mask.nii.gz 0.01 100 1 0"
   ]
  },
  {
   "cell_type": "code",
   "execution_count": null,
   "metadata": {},
   "outputs": [],
   "source": [
    "# Really important to check that the mask is appropriate before embarking on the next most time-consuming step.\n",
    "!dti_diffeomorphic_population mean_affine3.nii.gz subjects_list_aff.txt mask.nii.gz 0.002"
   ]
  },
  {
   "cell_type": "code",
   "execution_count": null,
   "metadata": {},
   "outputs": [],
   "source": [
    "!VolumeInfo mean_affine3.nii.gz"
   ]
  },
  {
   "cell_type": "code",
   "execution_count": null,
   "metadata": {},
   "outputs": [],
   "source": [
    "!VolumeInfo {template_path}"
   ]
  },
  {
   "cell_type": "code",
   "execution_count": null,
   "metadata": {},
   "outputs": [],
   "source": []
  },
  {
   "cell_type": "code",
   "execution_count": null,
   "metadata": {},
   "outputs": [],
   "source": []
  }
 ],
 "metadata": {
  "interpreter": {
   "hash": "578ec9caf8cc242a4c89e04db44ac9c7b7fb212b1d2b4d4eaf8e4d24b84632db"
  },
  "kernelspec": {
   "display_name": "Python 3 (ipykernel)",
   "language": "python",
   "name": "python3"
  },
  "language_info": {
   "codemirror_mode": {
    "name": "ipython",
    "version": 3
   },
   "file_extension": ".py",
   "mimetype": "text/x-python",
   "name": "python",
   "nbconvert_exporter": "python",
   "pygments_lexer": "ipython3",
   "version": "3.8.10"
  },
  "latex_envs": {
   "LaTeX_envs_menu_present": true,
   "autoclose": false,
   "autocomplete": true,
   "bibliofile": "biblio.bib",
   "cite_by": "apalike",
   "current_citInitial": 1,
   "eqLabelWithNumbers": true,
   "eqNumInitial": 1,
   "hotkeys": {
    "equation": "Ctrl-E",
    "itemize": "Ctrl-I"
   },
   "labels_anchors": false,
   "latex_user_defs": false,
   "report_style_numbering": false,
   "user_envs_cfg": false
  }
 },
 "nbformat": 4,
 "nbformat_minor": 2
}
