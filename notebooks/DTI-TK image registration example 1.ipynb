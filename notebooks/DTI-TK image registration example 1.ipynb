{
 "cells": [
  {
   "cell_type": "markdown",
   "metadata": {},
   "source": [
    "# <span style=\"color:red;\">NOTE</span>: Use the ALL_STEPS notebook to run all subjects. \n",
    "\n",
    "* `dti_diffeomorphic_population` on one subject will give `mean_df not found error`. Use `dti_diffeomorphic_reg` for one subject."
   ]
  },
  {
   "cell_type": "markdown",
   "metadata": {},
   "source": [
    "\n",
    "# DTI Image Registration Using Diffusion Tensor Imaging ToolKit (DTI-TK)\n",
    "## This notebook is my way of trying out DTI-TK image registration steps explained [here](http://dti-tk.sourceforge.net/pmwiki/pmwiki.php?n=Documentation.HomePage)\n",
    "## I created this notebook after [this](http://dti-tk.sourceforge.net/pmwiki/pmwiki.php?n=Documentation.FirstRegistration) example tutorial. This notebook will perform the suggested steps by DTI-TK for correct image registration.\n",
    "\n",
    "> should proceed by\n",
    ">    * Reading the tutorials on data format, visualization and checking diffusivity unit\n",
    ">    * Going through the detailed preprocessing tutorial\n",
    ">    * Studying the detailed registration tutorial."
   ]
  },
  {
   "cell_type": "markdown",
   "metadata": {},
   "source": [
    "# BASIC PROCESSING AND VISUALIZATION \n",
    "\n",
    "## [Interoperability in DTI-TK with FSL](http://dti-tk.sourceforge.net/pmwiki/pmwiki.php?n=Documentation.Interoperability)\n",
    "* Interoperability with FSL is straighforward using the `fsl_to_dtitk` script that converts a set of V[1-3] and L[1-3] dtifit files into the NIfTI tensor format that DTI-TK uses.\n",
    "\n",
    "* To convert back to the FSL format, use TVEigenSystem, e.g.\n",
    "\n",
    "        TVEigenSystem -in tensor.nii.gz -type FSL "
   ]
  },
  {
   "cell_type": "code",
   "execution_count": 1,
   "metadata": {
    "ExecuteTime": {
     "end_time": "2021-08-15T11:37:46.323405Z",
     "start_time": "2021-08-15T11:37:46.319917Z"
    }
   },
   "outputs": [],
   "source": [
    "import os\n",
    "from pathlib import Path\n",
    "from pgimri.config import PROCESSED_DTI_FILENAME"
   ]
  },
  {
   "cell_type": "code",
   "execution_count": 2,
   "metadata": {
    "ExecuteTime": {
     "end_time": "2021-08-15T11:37:49.854464Z",
     "start_time": "2021-08-15T11:37:49.741488Z"
    }
   },
   "outputs": [
    {
     "name": "stdout",
     "output_type": "stream",
     "text": [
      "../dtitk/bin/VolumeInfo\r\n"
     ]
    }
   ],
   "source": [
    "# This is similar to running following commands in terminal\n",
    "# export DTITK_ROOT=../dtitk\n",
    "# export PATH=${PATH}:${DTITK_ROOT}/bin:${DTITK_ROOT}/utilities:${DTITK_ROOT}/scripts\n",
    "dtitk_maindir = \"../dtitk\"\n",
    "os.environ[\"DTITK_ROOT\"] = dtitk_maindir\n",
    "os.environ[\"PATH\"] += f\":{dtitk_maindir}/bin:{dtitk_maindir}/utilities:{dtitk_maindir}/scripts\"\n",
    "!which VolumeInfo"
   ]
  },
  {
   "cell_type": "markdown",
   "metadata": {},
   "source": [
    "> * In practice, we recommend the users to use fsl_to_dtitk, a script that takes a FSL-generated DTI eigensystem volumes (non-brain tissue already removed) and converts them into fully DTI-TK compatible DTI volumes, i.e., both in the correct format and correctly preprocessed.\n",
    "> * The output from this program will be tensor_L{1,2,3}.nii.gz, the eigenvalues, and tensor_V{1,2,3}.nii.gz, the eigenvectors, following precisely the FSL naming convention.\n",
    "\n",
    "\n",
    "> * **WARNING**: FSL also has an option that allows for a DTI volume to be saved on disk in matrix form similar to but NOT the same as the NIfTI tensor format. It stores the six independent matrix components using the \"upper triangular\" order rather than the \"lower triangular\" order specified in NIfTI standard! (See Section about CAMINO above for definition of upper and lower triangular) So DO NOT use this option if you want to use its output with DTI-TK!"
   ]
  },
  {
   "cell_type": "code",
   "execution_count": 3,
   "metadata": {
    "ExecuteTime": {
     "end_time": "2021-08-15T11:37:54.362986Z",
     "start_time": "2021-08-15T11:37:54.251584Z"
    }
   },
   "outputs": [
    {
     "name": "stdout",
     "output_type": "stream",
     "text": [
      " DTI_ITC.ipynb\t\t\t\t      dti_V2.nii.gz\r\n",
      " dti_L1.nii.gz\t\t\t\t      dti_V3.nii.gz\r\n",
      " dti_L2.nii.gz\t\t\t\t      reference_axial_tensor.png\r\n",
      " dti_L3.nii.gz\t\t\t\t      reference_coronal_tensor.png\r\n",
      "'DTI-TK image registration_ALL_STEPS.ipynb'   subjects_list_aff_diffeo.txt\r\n",
      "'DTI-TK image registration example.ipynb'     subjects_list_aff.txt\r\n",
      "'DTI-TK image registration.ipynb'\t      subjects_list.txt\r\n",
      " dti_V1.nii.gz\r\n"
     ]
    }
   ],
   "source": [
    "!ls"
   ]
  },
  {
   "cell_type": "code",
   "execution_count": 4,
   "metadata": {
    "ExecuteTime": {
     "end_time": "2021-08-15T11:38:31.885916Z",
     "start_time": "2021-08-15T11:38:29.753828Z"
    }
   },
   "outputs": [
    {
     "name": "stdout",
     "output_type": "stream",
     "text": [
      "Reading dti_L1.nii.gz ... Done in 0.007444s\n",
      "Reading dti_V1.nii.gz ... Done in 0.021673s\n",
      "Reading dti_L2.nii.gz ... Done in 0.007762s\n",
      "Reading dti_V2.nii.gz ... Done in 0.021025s\n",
      "Reading dti_L3.nii.gz ... Done in 0.006831s\n",
      "Reading dti_V3.nii.gz ... Done in 0.02126s\n",
      "Writing dti_dtitk.nii.gz ... Done in 0.182574s\n",
      "Reading dti_dtitk.nii.gz ... Done in 0.039572s\n",
      "Voxelwise scaling dti_dtitk.nii.gz by 1000 ... Done in 0.003551s\n",
      "Writing dti_dtitk.nii.gz ... Done in 0.194446s\n",
      "Reading dti_dtitk.nii.gz ... Done in 0.043771s\n",
      "Computing the tensor Euclidean norm map ... Done in 0.00448s\n",
      "Writing dti_dtitk_norm.nii.gz ... Done in 0.035147s\n",
      "Reading dti_dtitk.nii.gz ... Done in 0.041721s\n",
      "Reading dti_dtitk_norm_non_outliers.nii.gz ... Done in 0.002562s\n",
      "Masking dti_dtitk.nii.gz by dti_dtitk_norm_non_outliers.nii.gz ... Done in 0.000822s\n",
      "Writing dti_dtitk.nii.gz ... Done in 0.193877s\n",
      "Reading dti_dtitk.nii.gz ... Done in 0.042983s\n",
      "Converting dti_dtitk.nii.gz to be symmetric positive definite ... Done in 0.077655s\n",
      "Writing dti_dtitk_nonSPD.nii.gz ... Done in 0.012493s\n",
      "non-spd tensors count = 0\n",
      "Writing dti_dtitk.nii.gz ... Done in 0.203335s\n",
      "Reading dti_dtitk.nii.gz ... Done in 0.043185s\n",
      "input voxelspace : size: 112x112x48, voxel size: 1.60714x1.60714x2.5, origin: [-52.3866, 74.8451, 24.9148]\n",
      "output voxelspace : size: 112x112x48, voxel size: 1.60714x1.60714x2.5, origin: [0, 0, 0]\n",
      "Writing dti_dtitk.nii.gz ... Done in 0.184924s\n"
     ]
    }
   ],
   "source": [
    "# Convert FSL format to DTI-TK format for further processing\n",
    "# base_filepath = f\"../../data/DTI/processed_data/3_processed/S63080_HARSH_ITS/{PROCESSED_DTI_FILENAME}\"\n",
    "base_filepath = PROCESSED_DTI_FILENAME\n",
    "!fsl_to_dtitk {base_filepath} # The output basename will be `<PROCESSED_DTI_FILENAME>_dtitk...`"
   ]
  },
  {
   "cell_type": "code",
   "execution_count": 5,
   "metadata": {
    "ExecuteTime": {
     "end_time": "2021-08-15T11:38:46.680657Z",
     "start_time": "2021-08-15T11:38:46.567184Z"
    }
   },
   "outputs": [
    {
     "name": "stdout",
     "output_type": "stream",
     "text": [
      " dti_dtitk.nii.gz\t\t\t     'DTI-TK image registration.ipynb'\r\n",
      " dti_dtitk_nonSPD.nii.gz\t\t      dti_V1.nii.gz\r\n",
      " dti_dtitk_norm.nii.gz\t\t\t      dti_V2.nii.gz\r\n",
      " dti_dtitk_norm_non_outliers.nii.gz\t      dti_V3.nii.gz\r\n",
      " DTI_ITC.ipynb\t\t\t\t      reference_axial_tensor.png\r\n",
      " dti_L1.nii.gz\t\t\t\t      reference_coronal_tensor.png\r\n",
      " dti_L2.nii.gz\t\t\t\t      subjects_list_aff_diffeo.txt\r\n",
      " dti_L3.nii.gz\t\t\t\t      subjects_list_aff.txt\r\n",
      "'DTI-TK image registration_ALL_STEPS.ipynb'   subjects_list.txt\r\n",
      "'DTI-TK image registration example.ipynb'\r\n"
     ]
    }
   ],
   "source": [
    "!ls"
   ]
  },
  {
   "cell_type": "markdown",
   "metadata": {},
   "source": [
    "## [VISUALIZING DTI IMAGES WITH DTI-TK](http://dti-tk.sourceforge.net/pmwiki/pmwiki.php?n=Documentation.VisualizationTool)\n",
    "\n",
    "### Below are reference views of how FA should look like:\n",
    "\n",
    "Axial View            |  Cornonal View\n",
    ":-------------------------:|:-------------------------:\n",
    "![reference_axial_tensor.png](reference_axial_tensor.png)  |  ![reference_coronal_tensor.png](reference_coronal_tensor.png)\n",
    "\n",
    "### Checking if tensors are correctly reconstructed\n",
    "An important utility of the tensor glyph rendering described above is for checking the correctness of your tensor reconstruction. A common mistake during tensor reconstruction (the process of constructing tensor volumes from diffusion-weighted images) is using a gradient table that is not corrected for the difference between the coordinate frame in which the gradient table is defined and the one in which the image is defined. This type of erroneous reconstruction can not be detected with the RGB map (explained above) and need to be ruled out with the tensor glyph rendering.\n",
    "\n",
    "The two steps are:\n",
    "\n",
    "1. Check if the tensors are oriented correctly in the genu and the splenium of the corpus callosum in the axial view (shown above). The tensors' major axes should be clearly aligned along the boundary of the genu and the splenium.\n",
    "2. Check if the tensors are oriented correctly in the internal capsule and the midbody of the corpus callosum in the coronal view (also shown above). Again, the tensors should be properly aligned with the boundary of these structures."
   ]
  },
  {
   "cell_type": "code",
   "execution_count": 6,
   "metadata": {
    "ExecuteTime": {
     "end_time": "2021-08-15T11:39:04.781383Z",
     "start_time": "2021-08-15T11:38:58.546806Z"
    }
   },
   "outputs": [
    {
     "name": "stdout",
     "output_type": "stream",
     "text": [
      "NIFTI Intent Code: NIFTI_INTENT_SYMMATRIX\n",
      "NIFTI Orientation Code: LPI\n",
      "Volume Info of dti_dtitk.nii.gz\n",
      "size: 112x112x48, voxel size: 1.60714x1.60714x2.5, origin: [0, 0, 0]\n",
      "Reading dti_dtitk.nii.gz ... Done in 0.056838s\n",
      "press the key 'H' to print a list of the available control keystrokes\n",
      "total number of colors = 262144\n",
      "processing the selected axial slice ... done rendering \n"
     ]
    }
   ],
   "source": [
    "# Check the new volumes\n",
    "dtitk_path = f\"{base_filepath}_dtitk.nii.gz\"\n",
    "\n",
    "# Display basic volume info\n",
    "!VolumeInfo {dtitk_path}\n",
    "\n",
    "# Viewing the tensors using 3D ellipsoid glyphs\n",
    "!TVglyphView -in {dtitk_path}\n",
    "\n",
    "# Other ways to visualize\n",
    "# !TVglyphView -in {dtitk_path} -scale 2 -view axial\n",
    "# !TVglyphView -in {dtitk_path} -scale 2 -view coronal"
   ]
  },
  {
   "cell_type": "markdown",
   "metadata": {},
   "source": [
    "# SPATIAL NORMALIZATION AND ATLAS CONSTRUCTION \n",
    "\n",
    "## [PREPROCESSING OF VOLUMES BEFORE REGISTRATION](http://dti-tk.sourceforge.net/pmwiki/pmwiki.php?n=Documentation.BeforeReg)\n",
    "\n",
    "### [**IMP**] Make Sure DTI Volumes are Using the Correct Diffusivity Unit. [More details here](http://dti-tk.sourceforge.net/pmwiki/pmwiki.php?n=Documentation.Diffusivity)\n",
    "* **The unit used by DTI-TK is $10^{-3}mm^2.s^{-1}$**. With this unit, the mean diffusivity for CSF is around 3. You want to make sure your DTI volumes are stored in the correct unit.\n",
    "\n",
    "* for diffusion-weighting, b-value of 800 s.mm-2 is used during the acquisition, and you input the number 800 as the b-value to your tensor reconstruction program, then the output DTI volume will have the unit of mm2.s-1.\n",
    "\n",
    "* if your DTI volumes use the unit of mm2.s-1, then the multiplication factor should be 1,000. If your unit is m2.s-1, then the factor should be $10^9$."
   ]
  },
  {
   "cell_type": "code",
   "execution_count": 8,
   "metadata": {
    "ExecuteTime": {
     "end_time": "2021-08-15T11:40:17.963548Z",
     "start_time": "2021-08-15T11:40:17.519031Z"
    }
   },
   "outputs": [
    {
     "name": "stdout",
     "output_type": "stream",
     "text": [
      "Reading dti_dtitk.nii.gz ... Done in 0.040787s\n",
      "Voxelwise scaling dti_dtitk.nii.gz by 1000 ... Done in 0.003373s\n",
      "Writing dti_dtitk_scaled.nii.gz ... Done in 0.194424s\n"
     ]
    }
   ],
   "source": [
    "# Unit of Diffusivity correction\n",
    "dtitk_scaled_path = dtitk_path.replace(\"_dtitk.nii.gz\", \"_dtitk_scaled.nii.gz\")\n",
    "!TVtool -in {dtitk_path} -scale 1000 -out {dtitk_scaled_path}"
   ]
  },
  {
   "cell_type": "code",
   "execution_count": 10,
   "metadata": {
    "ExecuteTime": {
     "end_time": "2021-08-15T11:40:55.666111Z",
     "start_time": "2021-08-15T11:40:55.663392Z"
    }
   },
   "outputs": [],
   "source": [
    "# Check scaled file\n",
    "\n",
    "#! [WARNING]: Do not run without scaling down. System will hang because of too heavy rendering.\n",
    "# !TVglyphView -in {dtitk_scaled_path} -scale 0.001"
   ]
  },
  {
   "cell_type": "markdown",
   "metadata": {},
   "source": [
    "### Remove Non-Brain Tissues (Already completed this step in `process-subject` function)\n",
    "To do this, our recommended protocol is to use the excellent Brain Extraction Tool, aka BET, available as part of the FSL suite. Once you have computed the brain tissue mask and are satisfied with its quality, you can apply it to the corresponding DTI volume with the following command:\n",
    "\n",
    "        TVtool -in tensor.nii.gz -out mtensor.nii.gz -mask b0_mask.nii.gz\n",
    "\n",
    "Comment:\n",
    "* A good quality brain mask should not remove any brain tissues and keep non-brain tissue at a minimum.\n",
    "* DTI-TK expects b0_mask.nii.gz to be 0 for the background and 1 for brain tissues."
   ]
  },
  {
   "cell_type": "code",
   "execution_count": 8,
   "metadata": {
    "ExecuteTime": {
     "end_time": "2021-08-15T09:00:16.467108Z",
     "start_time": "2021-08-15T09:00:16.464866Z"
    }
   },
   "outputs": [],
   "source": [
    "#! TRY ADDING THIS STEP TO SEE IF ANYTHING IMPROVES"
   ]
  },
  {
   "cell_type": "markdown",
   "metadata": {},
   "source": [
    "### Make Sure DTI Volumes are SPD\n",
    "[**NOTE**] Adding this step before norm because norm volume does not process SPD. So, norm will be applied after SPD.\n",
    "Diffusion tensors, by definition, are symmetric and positive-definite matrices, or SPD. However, in practice, due to noises in the DWI images, the diffusion tensors estimated within a DTI volume are not always SPD. The SPD condition is very important however to ensure DTI volumes behave properly after various image processing steps. DTI-TK provides a simple tool that identifies the voxels that are not SPD and enforces this condition on such voxels. The tool TVtool can be used as follows:\n",
    "\n",
    "        TVtool -in tensor.nii.gz -spd -out spd.nii.gz"
   ]
  },
  {
   "cell_type": "code",
   "execution_count": 23,
   "metadata": {
    "ExecuteTime": {
     "end_time": "2021-08-15T12:37:48.573954Z",
     "start_time": "2021-08-15T12:37:48.050798Z"
    }
   },
   "outputs": [
    {
     "name": "stdout",
     "output_type": "stream",
     "text": [
      "Reading dti_dtitk_scaled.nii.gz ... Done in 0.041277s\n",
      "Converting dti_dtitk_scaled.nii.gz to be symmetric positive definite ... Done in 0.07504s\n",
      "Writing dti_dtitk_scaled_nonSPD.nii.gz ... Done in 0.01258s\n",
      "non-spd tensors count = 0\n",
      "Writing dti_dtitk_scaled_spd.nii.gz ... Done in 0.183265s\n"
     ]
    }
   ],
   "source": [
    "dtitk_spd_path = dtitk_scaled_path.replace(\"dtitk_scaled.nii.gz\", \"dtitk_scaled_spd.nii.gz\")\n",
    "\n",
    "# Just make sure from the output that tensor count in non-spd file is zero.\n",
    "!TVtool -in {dtitk_scaled_path} -spd -out {dtitk_spd_path}"
   ]
  },
  {
   "cell_type": "markdown",
   "metadata": {},
   "source": [
    "### Make Sure DTI Volumes Contain No Significant Outliers\n",
    "Outliers often don't have any effect on image registration. However, when the outliers are substantially outside the normal range, they will. A good indicator that the outliers are worthy of concerns is when their existence distorts the mean significantly.\n",
    "\n",
    "        TVtool -in tensor.nii.gz -norm\n",
    "which outputs the tensor norm image as tensor_norm.nii.gz, and\n",
    "\n",
    "        SVtool -in tensor_norm.nii.gz -stats"
   ]
  },
  {
   "cell_type": "code",
   "execution_count": 16,
   "metadata": {
    "ExecuteTime": {
     "end_time": "2021-08-15T11:45:43.164067Z",
     "start_time": "2021-08-15T11:45:43.161273Z"
    }
   },
   "outputs": [],
   "source": [
    "# # Normalize\n",
    "# !TVtool -in {dtitk_spd_path} -norm\n",
    "\n",
    "# dtitk_norm_path = dtitk_spd_path.replace(\"dtitk_scaled_spd.nii.gz\", \"dtitk_scaled_spd_norm.nii.gz\")\n",
    "\n",
    "# print(\"Saved @\", dtitk_norm_path)\n"
   ]
  },
  {
   "cell_type": "markdown",
   "metadata": {},
   "source": [
    "### Check Whether DTI Volumes Share one Common Voxel Space\n",
    "It's recommended to set all the origin to [0, 0, 0] and this can be done with \"TVAdjustVoxelspace\".\n",
    "\n",
    "        TVAdjustVoxelspace -in tensor.nii.gz -origin 0 0 0"
   ]
  },
  {
   "cell_type": "code",
   "execution_count": 17,
   "metadata": {
    "ExecuteTime": {
     "end_time": "2021-08-15T11:45:48.394031Z",
     "start_time": "2021-08-15T11:45:48.274845Z"
    }
   },
   "outputs": [
    {
     "name": "stdout",
     "output_type": "stream",
     "text": [
      "NIFTI Intent Code: NIFTI_INTENT_NONE\r\n",
      "NIFTI Orientation Code: LPI\r\n",
      "Volume Info of dti_dtitk_scaled_spd_norm.nii.gz\r\n",
      "size: 112x112x48, voxel size: 1.60714x1.60714x2.5, origin: [0, 0, 0]\r\n"
     ]
    }
   ],
   "source": [
    "# Display basic volume info (it is alerady there, but do include these steps anyway in the registration pipeline)\n",
    "!VolumeInfo {dtitk_norm_path}"
   ]
  },
  {
   "cell_type": "code",
   "execution_count": 13,
   "metadata": {
    "ExecuteTime": {
     "end_time": "2021-08-15T08:58:43.068787Z",
     "start_time": "2021-08-15T08:58:42.793269Z"
    }
   },
   "outputs": [
    {
     "name": "stdout",
     "output_type": "stream",
     "text": [
      "Reading dti_dtitk_scaled_spd_norm.nii.gz ... Warning: Volume uses unexpected NIfTI intent code\r\n",
      "Done in 0.007372s\r\n"
     ]
    }
   ],
   "source": [
    "# Visualize\n",
    "# !TVglyphView -in {dtitk_spd_path} -scale 0.001"
   ]
  },
  {
   "cell_type": "markdown",
   "metadata": {},
   "source": [
    "It is important to resample the volumes that do not share the same voxel spacing as the rest of the volumes. This is usually never an issue unless you are trying to combine data acquired with different protocols. The tool for resampling tensor volumes is TVResample.\n",
    "It's ideal but not necessary that all the volumes have the same voxel dimensions. This situation may arise when the same protocol is used if the operator decides to optimze the number of slices to acquire. Not having the same voxel dimensions (z dimension in most cases) may reduce the initial bootstrapped template estimate. Visual inspection can be used to verify if this is a serious issue or not.\n",
    "\n",
    "## SHOULD I DO RESAMPLING? (check back after trying registration for any significant difference.)"
   ]
  },
  {
   "cell_type": "markdown",
   "metadata": {},
   "source": [
    "## [REGISTRATION AND SPATIAL NORMALIZATION OF DTI VOLUMES](http://dti-tk.sourceforge.net/pmwiki/pmwiki.php?n=Documentation.Registration)\n",
    "\n",
    "The spatial normalization pipeline includes the following five steps:\n",
    "\n",
    "1. Preprocessing of the input DTI volumes\n",
    "2. Bootstrapping the initial DTI template from the input DTI volumes.\n",
    "3. Rigid alignment with template refinement\n",
    "4. Affine alignment with template refinement\n",
    "5. Deformable alignment with template refinement\n",
    "\n",
    "Where step 1 is already performed above."
   ]
  },
  {
   "cell_type": "markdown",
   "metadata": {},
   "source": [
    "#### Step 2. Bootstrapping the initial DTI template from the input DTI volumes"
   ]
  },
  {
   "cell_type": "code",
   "execution_count": 34,
   "metadata": {
    "ExecuteTime": {
     "end_time": "2021-08-15T13:36:15.289161Z",
     "start_time": "2021-08-15T13:36:15.282875Z"
    }
   },
   "outputs": [],
   "source": [
    "template_path = \"../../nihpd_templates/nihpd_asym_00-02_t1w.nii\"\n",
    "template_mask_path = \"../../nihpd_templates/nihpd_asym_00-02_mask.nii\"\n",
    "# template_path = \"ixi_aging_template.nii.gz\"\n",
    "# template_mask_path = \"ixi_aging_template_brain_mask.nii.gz\"\n",
    "\n",
    "# Create a subject list file\n",
    "with open(\"subjects_list.txt\", 'w') as wf:\n",
    "    wf.write(f\"{Path(dtitk_spd_path).resolve().absolute()}\\n\")"
   ]
  },
  {
   "cell_type": "code",
   "execution_count": 35,
   "metadata": {
    "ExecuteTime": {
     "end_time": "2021-08-15T13:36:15.818558Z",
     "start_time": "2021-08-15T13:36:15.690056Z"
    }
   },
   "outputs": [
    {
     "name": "stdout",
     "output_type": "stream",
     "text": [
      "NIFTI Intent Code: NIFTI_INTENT_NONE\r\n",
      "WARNING: qform not defined\r\n",
      "WARNING: assumed as RPI\r\n",
      "NIFTI Orientation Code: RPI\r\n",
      "Volume Info of ../../nihpd_templates/nihpd_asym_00-02_t1w.nii\r\n",
      "size: 195x233x159, voxel size: 1x1x1, origin: [-0, -0, -0]\r\n"
     ]
    }
   ],
   "source": [
    "!VolumeInfo {template_path}"
   ]
  },
  {
   "cell_type": "code",
   "execution_count": 38,
   "metadata": {
    "ExecuteTime": {
     "end_time": "2021-08-15T13:55:54.760950Z",
     "start_time": "2021-08-15T13:40:23.052736Z"
    }
   },
   "outputs": [
    {
     "name": "stdout",
     "output_type": "stream",
     "text": [
      "Affine Registration of mean_initial.nii.gz to ../../nihpd_templates/nihpd_asym_00-02_t1w.nii\n",
      "Reading ../../nihpd_templates/nihpd_asym_00-02_t1w.nii ... Done in 0.0054s\n",
      "WARNING: qform not defined\n",
      "WARNING: assumed as RPI\n",
      "sampling step size = [1, 1, 1]\n",
      "Reading mean_initial.nii.gz ... Warning: Volume uses unexpected NIfTI intent code\n",
      "Warning: mean_initial.nii.gz contains 6 components per voxel, reading the first component only\n",
      "Done in 0.461312s\n",
      "Using Normalized Mutual Information metric\n",
      "Initial difference = -0.0761274\n",
      "initial estimate provided by center of mass alignment\n",
      "dsm optimizer ftol = 0.0001\n",
      "Direction Set Minimization ...\n",
      "Iteration 0\n",
      " -1.01  5.645 -0.499      0      0      0      0      0      0      0      0      0 | -0.0762226\n",
      " -1.01  1.409 -0.499      0      0      0      0      0      0      0      0      0 | -0.0767918\n",
      " -1.01  1.409  -1.55      0      0      0      0      0      0      0      0      0 | -0.0769662\n",
      " -1.01  1.409  -1.55 0.03231      0      0      0      0      0      0      0      0 | -0.0769677\n",
      " -1.01  1.409  -1.55 0.03231 0.004255      0      0      0      0      0      0      0 | -0.0769684\n",
      " -1.01  1.409  -1.55 0.03231 0.004255 -0.000188      0      0      0      0      0      0 | -0.0769685\n",
      " -1.01  1.409  -1.55 0.03231 0.004255 -0.000188 -0.1269      0      0      0      0      0 | -0.0769906\n",
      " -1.01  1.409  -1.55 0.03231 0.004255 -0.000188 -0.1269 -0.04261      0      0      0      0 | -0.0769936\n",
      " -1.01  1.409  -1.55 0.03231 0.004255 -0.000188 -0.1269 -0.04261  -1.46      0      0      0 | -0.0772115\n",
      " -1.01  1.409  -1.55 0.03231 0.004255 -0.000188 -0.1269 -0.04261  -1.46 0.0004467      0      0 | -0.0772117\n",
      " -1.01  1.409  -1.55 0.03231 0.004255 -0.000188 -0.1269 -0.04261  -1.46 0.0004467 0.1573      0 | -0.0772528\n",
      " -1.01  1.409  -1.55 0.03231 0.004255 -0.000188 -0.1269 -0.04261  -1.46 0.0004467 0.1573 0.8315 | -0.0772994\n",
      "Iteration 1\n",
      "-0.8185  1.409  -1.55 0.03231 0.004255 -0.000188 -0.1269 -0.04261  -1.46 0.0004467 0.1573 0.8315 | -0.077308\n",
      "-0.8185  1.083  -1.55 0.03231 0.004255 -0.000188 -0.1269 -0.04261  -1.46 0.0004467 0.1573 0.8315 | -0.0773164\n",
      "-0.8185  1.083 -0.08919 0.03231 0.004255 -0.000188 -0.1269 -0.04261  -1.46 0.0004467 0.1573 0.8315 | -0.0773988\n",
      "-0.8185  1.083 -0.08919   2.65 0.004255 -0.000188 -0.1269 -0.04261  -1.46 0.0004467 0.1573 0.8315 | -0.0775523\n",
      "-0.8185  1.083 -0.08919   2.65 -0.8972 -0.000188 -0.1269 -0.04261  -1.46 0.0004467 0.1573 0.8315 | -0.0775817\n",
      "-0.8185  1.083 -0.08919   2.65 -0.8972  0.083 -0.1269 -0.04261  -1.46 0.0004467 0.1573 0.8315 | -0.0775842\n",
      "-0.8185  1.083 -0.08919   2.65 -0.8972  0.083 -0.2238 -0.04261  -1.46 0.0004467 0.1573 0.8315 | -0.077592\n",
      "-0.8185  1.083 -0.08919   2.65 -0.8972  0.083 -0.2238 -0.04286  -1.46 0.0004467 0.1573 0.8315 | -0.0775921\n",
      "-0.8185  1.083 -0.08919   2.65 -0.8972  0.083 -0.2238 -0.04286 -2.286 0.0004467 0.1573 0.8315 | -0.0776885\n",
      "-0.8185  1.083 -0.08919   2.65 -0.8972  0.083 -0.2238 -0.04286 -2.286 -0.000844 0.1573 0.8315 | -0.0776887\n",
      "-0.8185  1.083 -0.08919   2.65 -0.8972  0.083 -0.2238 -0.04286 -2.286 -0.000844  0.302 0.8315 | -0.0777122\n",
      "-0.8185  1.083 -0.08919   2.65 -0.8972  0.083 -0.2238 -0.04286 -2.286 -0.000844  0.302 0.8511 | -0.077713\n",
      "Iteration 2\n",
      "-0.6551  1.083 -0.08919   2.65 -0.8972  0.083 -0.2238 -0.04286 -2.286 -0.000844  0.302 0.8511 | -0.0777153\n",
      "-0.6551  2.701 -0.08919   2.65 -0.8972  0.083 -0.2238 -0.04286 -2.286 -0.000844  0.302 0.8511 | -0.0777818\n",
      "-0.6551  2.701  1.894   2.65 -0.8972  0.083 -0.2238 -0.04286 -2.286 -0.000844  0.302 0.8511 | -0.0779114\n",
      "-0.6551  2.701  1.894  3.905 -0.8972  0.083 -0.2238 -0.04286 -2.286 -0.000844  0.302 0.8511 | -0.0779888\n",
      "-0.6551  2.701  1.894  3.905 -0.905  0.083 -0.2238 -0.04286 -2.286 -0.000844  0.302 0.8511 | -0.077989\n",
      "-0.6551  2.701  1.894  3.905 -0.905 0.1889 -0.2238 -0.04286 -2.286 -0.000844  0.302 0.8511 | -0.0779945\n",
      "-0.6551  2.701  1.894  3.905 -0.905 0.1889 -0.1556 -0.04286 -2.286 -0.000844  0.302 0.8511 | -0.0779977\n",
      "-0.6551  2.701  1.894  3.905 -0.905 0.1889 -0.1556 -0.1808 -2.286 -0.000844  0.302 0.8511 | -0.0779984\n",
      "-0.6551  2.701  1.894  3.905 -0.905 0.1889 -0.1556 -0.1808 -2.841 -0.000844  0.302 0.8511 | -0.0780519\n",
      "-0.6551  2.701  1.894  3.905 -0.905 0.1889 -0.1556 -0.1808 -2.841 -0.0009113  0.302 0.8511 | -0.0780519\n",
      "-0.6551  2.701  1.894  3.905 -0.905 0.1889 -0.1556 -0.1808 -2.841 -0.0009113 0.3061 0.8511 | -0.0780523\n",
      "-0.6551  2.701  1.894  3.905 -0.905 0.1889 -0.1556 -0.1808 -2.841 -0.0009113 0.3061 0.8512 | -0.0780523\n",
      "Iteration 3\n",
      "-0.03836  7.149  7.346  7.353 -0.9263 0.4801 0.03187 -0.5599 -4.366 -0.001096 0.3175 0.8513 | -0.0784201\n",
      "-0.03836  6.611  7.346  7.353 -0.9263 0.4801 0.03187 -0.5599 -4.366 -0.001096 0.3175 0.8513 | -0.078433\n",
      "-0.03836  6.611  7.346  7.353 -0.9263 0.4801 0.03187 -0.5599 -4.366 -0.001096 0.3175  1.069 | -0.0784501\n",
      "-0.03836  6.611  7.346  8.353 -0.9263 0.4801 0.03187 -0.5599 -4.366 -0.001096 0.3175  1.069 | -0.078483\n",
      "-0.03836  6.611  7.346  8.353 -1.091 0.4801 0.03187 -0.5599 -4.366 -0.001096 0.3175  1.069 | -0.0784933\n",
      "-0.03836  6.611  7.346  8.353 -1.091 -0.4211 0.03187 -0.5599 -4.366 -0.001096 0.3175  1.069 | -0.0785328\n",
      "-0.03836  6.611  7.346  8.353 -1.091 -0.4211 0.06769 -0.5599 -4.366 -0.001096 0.3175  1.069 | -0.0785357\n",
      "-0.03836  6.611  7.346  8.353 -1.091 -0.4211 0.06769 -0.08801 -4.366 -0.001096 0.3175  1.069 | -0.0785933\n",
      "-0.03836  6.611  7.346  8.353 -1.091 -0.4211 0.06769 -0.08801 -4.984 -0.001096 0.3175  1.069 | -0.0786493\n",
      "-0.03836  6.611  7.346  8.353 -1.091 -0.4211 0.06769 -0.08801 -4.984 -0.001763 0.3175  1.069 | -0.0786496\n",
      "-0.03836  6.611  7.346  8.353 -1.091 -0.4211 0.06769 -0.08801 -4.984 -0.001763 0.4247  1.069 | -0.0786622\n",
      "0.08191  7.802  8.805  9.276 -1.097 -0.3431 0.1179 -0.1895 -5.392 -0.001813 0.4278  1.069 | -0.078705\n",
      "Iteration 4\n",
      "-0.2969  7.802  8.805  9.276 -1.097 -0.3431 0.1179 -0.1895 -5.392 -0.001813 0.4278  1.069 | -0.0787243\n",
      "-0.2969  7.794  8.805  9.276 -1.097 -0.3431 0.1179 -0.1895 -5.392 -0.001813 0.4278  1.069 | -0.0787249\n",
      "-0.2969  7.794  8.805  9.276 -1.097 -0.3431 0.1179 -0.1895 -5.392 -0.001813 0.4278  1.194 | -0.0787347\n",
      "-0.2969  7.794  8.805  9.961 -1.097 -0.3431 0.1179 -0.1895 -5.392 -0.001813 0.4278  1.194 | -0.0787548\n",
      "-0.2969  7.794  8.805  9.961 -1.142 -0.3431 0.1179 -0.1895 -5.392 -0.001813 0.4278  1.194 | -0.0787562\n",
      "-0.2969  7.794  8.805  9.961 -1.142 -0.3515 0.1179 -0.1895 -5.392 -0.001813 0.4278  1.194 | -0.0787565\n",
      "-0.2969  7.794  8.805  9.961 -1.142 -0.3515 0.1179 -0.1895 -5.392 -0.001813 0.4278  1.194 | -0.0787566\n",
      "-0.2969  7.794  8.805  9.961 -1.142 -0.3515 0.1179 0.04969 -5.392 -0.001813 0.4278  1.194 | -0.0787663\n",
      "-0.2969  7.794  8.805  9.961 -1.142 -0.3515 0.1179 0.04969  -5.59 -0.001813 0.4278  1.194 | -0.0787737\n",
      "-0.2969  7.794  8.805  9.961 -1.142 -0.3515 0.1179 0.04969  -5.59 -0.0283 0.4278  1.194 | -0.0787754\n",
      "-0.2969  7.794  8.805  9.961 -1.142 -0.3515 0.1179 0.04969  -5.59 -0.0283 0.4274  1.194 | -0.0787756\n",
      " -0.25  8.258  9.373  10.32 -1.145 -0.3212 0.1374 0.01016 -5.749 -0.02831 0.4286  1.194 | -0.0787855\n",
      "Iteration 5\n",
      "-0.4045  8.943  10.23  11.89 -1.217 -0.2881 0.1668 0.3104 -6.286 -0.06817 0.4298  1.381 | -0.0788549\n",
      "-0.4045  9.415  10.23  11.89 -1.217 -0.2881 0.1668 0.3104 -6.286 -0.06817 0.4298  1.381 | -0.0788571\n",
      "-0.4045  9.415  10.23  11.89 -1.217 -0.2881 0.1668 0.3104 -6.286 -0.06817 0.4298  1.585 | -0.0788733\n",
      "-0.2961  10.49  11.54  12.72 -1.222 -0.2179  0.212 0.2189 -6.654 -0.06822 0.4325  1.585 | -0.0788914\n",
      "-0.2961  10.49  11.54  12.72 -1.184 -0.2179  0.212 0.2189 -6.654 -0.06822 0.4325  1.585 | -0.0788929\n",
      "-0.2961  10.49  11.54  12.72 -1.184 -0.2176  0.212 0.2189 -6.654 -0.06822 0.4325  1.585 | -0.078893\n",
      "-0.2961  10.49  11.54  12.72 -1.184 -0.2176 0.1651 0.2189 -6.654 -0.06822 0.4325  1.585 | -0.0788955\n",
      "-0.2961  10.49  11.54  12.72 -1.184 -0.2176 0.1651 0.09432 -6.654 -0.06822 0.4325  1.585 | -0.0788987\n",
      "-0.2961  10.49  11.54  12.72 -1.184 -0.2176 0.1651 0.09432  -6.85 -0.06822 0.4325  1.585 | -0.0788997\n",
      "-0.2961  10.49  11.54  12.72 -1.184 -0.2176 0.1651 0.09432  -6.85 -0.08075 0.4325  1.585 | -0.0789011\n",
      "-0.2961  10.49  11.54  12.72 -1.184 -0.2176 0.1651 0.09432  -6.85 -0.08075 0.4309  1.585 | -0.0789014\n",
      "-0.5319  10.81  11.95  13.47 -1.218 -0.202  0.179 0.2362 -7.104 -0.09958 0.4314  1.673 | -0.0789248\n"
     ]
    },
    {
     "name": "stdout",
     "output_type": "stream",
     "text": [
      "Iteration 6\n",
      "-0.3924  10.81  11.95  13.47 -1.218 -0.202  0.179 0.2362 -7.104 -0.09958 0.4314  1.673 | -0.0789281\n",
      "-0.3924  10.62  11.95  13.47 -1.218 -0.202  0.179 0.2362 -7.104 -0.09958 0.4314  1.673 | -0.0789291\n",
      "-0.3924  10.62  11.95  13.47 -1.218 -0.202  0.179 0.2362 -7.104 -0.09958 0.4314  1.843 | -0.078945\n",
      "-0.3531  11.01  12.43  13.77  -1.22 -0.1765 0.1954  0.203 -7.237 -0.0996 0.4324  1.843 | -0.078952\n",
      "-0.3531  11.01  12.43  13.77 -1.193 -0.1765 0.1954  0.203 -7.237 -0.0996 0.4324  1.843 | -0.0789521\n",
      "-0.3531  11.01  12.43  13.77 -1.193 -0.3037 0.1954  0.203 -7.237 -0.0996 0.4324  1.843 | -0.0789559\n",
      "-0.3531  11.01  12.43  13.77 -1.193 -0.3037 0.1783  0.203 -7.237 -0.0996 0.4324  1.843 | -0.0789568\n",
      "-0.3531  11.01  12.43  13.77 -1.193 -0.3037 0.1783 0.1906 -7.237 -0.0996 0.4324  1.843 | -0.0789572\n",
      "-0.3531  11.01  12.43  13.77 -1.193 -0.3037 0.1783 0.1906 -7.237 -0.0996 0.4324  1.843 | -0.0789573\n",
      "-0.3531  11.01  12.43  13.77 -1.193 -0.3037 0.1783 0.1906 -7.237 -0.0996 0.4324  1.843 | -0.0789573\n",
      "-0.3531  11.01  12.43  13.77 -1.193 -0.3037 0.1783 0.1906 -7.237 -0.0996 0.4324  1.843 | -0.0789573\n",
      "-0.519  11.24  12.71  14.29 -1.217 -0.2927 0.1881 0.2904 -7.416 -0.1128 0.4328  1.906 | -0.0789616\n",
      "Iteration 7\n",
      "-0.5515  15.41  20.11  22.29  -1.21 -1.173  0.276  0.817 -10.45 -0.2417 0.4463  4.159 | -0.0791931\n",
      "-0.5515  16.29  20.11  22.29  -1.21 -1.173  0.276  0.817 -10.45 -0.2417 0.4463  4.159 | -0.079217\n",
      "-0.5859  16.34  20.17   22.4 -1.215 -1.171 0.2781 0.8377 -10.48 -0.2444 0.4464  4.172 | -0.0792181\n",
      "-0.5567  16.63  20.52  22.63 -1.217 -1.152 0.2902  0.813 -10.58 -0.2444 0.4471  4.172 | -0.0792214\n",
      "-0.5567  16.63  20.52  22.63 -1.703 -1.152 0.2902  0.813 -10.58 -0.2444 0.4471  4.172 | -0.0792284\n",
      "-0.5567  16.63  20.52  22.63 -1.703 -1.152 0.2902  0.813 -10.58 -0.2444 0.4471  4.172 | -0.0792284\n",
      "-0.5567  16.63  20.52  22.63 -1.703 -1.152 -0.3278  0.813 -10.58 -0.2444 0.4471  4.172 | -0.0792314\n",
      "-0.5567  16.63  20.52  22.63 -1.703 -1.152 -0.3278  0.241 -10.58 -0.2444 0.4471  4.172 | -0.0792884\n",
      "-0.5567  16.63  20.52  22.63 -1.703 -1.152 -0.3278  0.241 -10.82 -0.2444 0.4471  4.172 | -0.0792917\n",
      "-0.5567  16.63  20.52  22.63 -1.703 -1.152 -0.3278  0.241 -10.82 -0.04044 0.4471  4.172 | -0.0793334\n",
      "-0.5567  16.63  20.52  22.63 -1.703 -1.152 -0.3278  0.241 -10.82 -0.04044 0.4754  4.172 | -0.0793348\n",
      "-0.5402  17.18  21.49  23.68 -1.702 -1.268 -0.3162 0.3101 -11.21 -0.05735 0.4772  4.468 | -0.0793644\n",
      "Iteration 8\n",
      "-0.5052  17.18  21.49  23.68 -1.702 -1.268 -0.3162 0.3101 -11.21 -0.05735 0.4772  4.468 | -0.0793646\n",
      "-0.5052  18.18  21.49  23.68 -1.702 -1.268 -0.3162 0.3101 -11.21 -0.05735 0.4772  4.468 | -0.0793846\n",
      "-0.7701  18.54  21.95  24.51 -1.741  -1.25 -0.3007 0.4694  -11.5 -0.0785 0.4778  4.567 | -0.0794021\n",
      "-0.7679  18.56  21.97  24.53 -1.741 -1.249 -0.2997 0.4676 -11.51 -0.0785 0.4778  4.567 | -0.0794023\n",
      "-0.7679  18.56  21.97  24.53 -1.704 -1.249 -0.2997 0.4676 -11.51 -0.0785 0.4778  4.567 | -0.0794027\n",
      "-0.7679  18.56  21.97  24.53 -1.704 -1.144 -0.2997 0.4676 -11.51 -0.0785 0.4778  4.567 | -0.0794076\n",
      "-0.7679  18.56  21.97  24.53 -1.704 -1.144 -0.2252 0.4676 -11.51 -0.0785 0.4778  4.567 | -0.0794082\n",
      "-0.7679  18.56  21.97  24.53 -1.704 -1.144 -0.2252 0.3168 -11.51 -0.0785 0.4778  4.567 | -0.0794163\n",
      "-0.7679  18.56  21.97  24.53 -1.704 -1.144 -0.2252 0.3168  -11.6 -0.0785 0.4778  4.567 | -0.0794192\n",
      "-0.7679  18.56  21.97  24.53 -1.704 -1.144 -0.2252 0.3168  -11.6 -0.004196 0.4778  4.567 | -0.0794238\n",
      "-0.7679  18.56  21.97  24.53 -1.704 -1.144 -0.2252 0.3168  -11.6 -0.004196 0.6041  4.567 | -0.0794281\n",
      "-0.765  18.66  22.14  24.71 -1.704 -1.164 -0.2232 0.3288 -11.67 -0.007137 0.6044  4.619 | -0.079429\n",
      "Iteration 9\n",
      "-0.9914  18.66  22.14  24.71 -1.704 -1.164 -0.2232 0.3288 -11.67 -0.007137 0.6044  4.619 | -0.079435\n",
      "-0.9914  19.27  22.14  24.71 -1.704 -1.164 -0.2232 0.3288 -11.67 -0.007137 0.6044  4.619 | -0.0794482\n",
      "-0.9991  19.29  22.15  24.73 -1.705 -1.164 -0.2227 0.3334 -11.68 -0.007758 0.6044  4.622 | -0.0794493\n",
      "-0.9821  19.45  22.36  24.86 -1.706 -1.153 -0.2156 0.3191 -11.74 -0.007765 0.6049  4.622 | -0.0794516\n",
      "-0.9821  19.45  22.36  24.86  -1.56 -1.153 -0.2156 0.3191 -11.74 -0.007765 0.6049  4.622 | -0.0794608\n",
      "-0.9821  19.45  22.36  24.86  -1.56 -1.029 -0.2156 0.3191 -11.74 -0.007765 0.6049  4.622 | -0.0794679\n",
      "-0.9821  19.45  22.36  24.86  -1.56 -1.029 -0.1498 0.3191 -11.74 -0.007765 0.6049  4.622 | -0.079475\n",
      "-0.9821  19.45  22.36  24.86  -1.56 -1.029 -0.1498 0.1281 -11.74 -0.007765 0.6049  4.622 | -0.0794851\n",
      "-0.9821  19.45  22.36  24.86  -1.56 -1.029 -0.1498 0.1281 -11.77 -0.007765 0.6049  4.622 | -0.0794857\n",
      "-0.9821  19.45  22.36  24.86  -1.56 -1.029 -0.1498 0.1281 -11.77 -0.007754 0.6049  4.622 | -0.0794857\n",
      "-0.9821  19.45  22.36  24.86  -1.56 -1.029 -0.1498 0.1281 -11.77 -0.007754 0.6031  4.622 | -0.0794858\n",
      "-0.9821  19.45  22.36  24.86  -1.56 -1.029 -0.1498 0.1281 -11.77 -0.007752 0.6031  4.622 | -0.0794858\n",
      "Iteration 10\n",
      "-0.9821  19.45  22.36  24.86  -1.56 -1.029 -0.1498 0.1281 -11.77 -0.007752 0.6031  4.622 | -0.0794858\n",
      "-0.9821  19.45  22.36  24.86  -1.56 -1.029 -0.1498 0.1281 -11.77 -0.007752 0.6031  4.622 | -0.0794858\n",
      "^C\n"
     ]
    }
   ],
   "source": [
    "# !asvDSM -template {template_path} -subject mean_initial.nii.gz -sep 0.5 0.5 0.5 -ftol 0.0001"
   ]
  },
  {
   "cell_type": "code",
   "execution_count": 26,
   "metadata": {
    "ExecuteTime": {
     "end_time": "2021-08-15T12:43:32.829886Z",
     "start_time": "2021-08-15T12:43:32.245617Z"
    }
   },
   "outputs": [
    {
     "name": "stdout",
     "output_type": "stream",
     "text": [
      "Reading ../../nihpd_templates/nihpd_asym_00-02_t1w.nii.gz ... Warning: Volume uses unexpected NIfTI intent code\n",
      "Done in 0.101272s\n",
      "WARNING: qform not defined\n",
      "WARNING: assumed as RPI\n"
     ]
    }
   ],
   "source": [
    "# Remove non-brain part from template\n",
    "!TVtool -in {template_path} -out template_0to2.nii.gz -mask {template_mask_path}"
   ]
  },
  {
   "cell_type": "code",
   "execution_count": 19,
   "metadata": {
    "ExecuteTime": {
     "end_time": "2021-08-15T11:48:46.824434Z",
     "start_time": "2021-08-15T11:47:58.384637Z"
    },
    "scrolled": true
   },
   "outputs": [
    {
     "name": "stdout",
     "output_type": "stream",
     "text": [
      "dti_rigid_sn iteration 1\n",
      "registering /home/virk/devs/WorkProjects/PGI/PGIMRI/notebooks/dti_dtitk_scaled_spd.nii.gz ...\n",
      "Rigid Registration of /home/virk/devs/WorkProjects/PGI/PGIMRI/notebooks/dti_dtitk_scaled_spd.nii.gz to ../../nihpd_templates/nihpd_asym_00-02_t1w.nii\n",
      "Reading ../../nihpd_templates/nihpd_asym_00-02_t1w.nii ... Done in 0.009476s\n",
      "WARNING: qform not defined\n",
      "WARNING: assumed as RPI\n",
      "sampling step size = [4, 4, 4]\n",
      "Gaussian smoothing: sigma = [1.64, 1.64, 1.64] ... Done in 0.496s\n",
      "Reading /home/virk/devs/WorkProjects/PGI/PGIMRI/notebooks/dti_dtitk_scaled_spd.nii.gz ... Warning: Volume uses unexpected NIfTI intent code\n",
      "Warning: /home/virk/devs/WorkProjects/PGI/PGIMRI/notebooks/dti_dtitk_scaled_spd.nii.gz contains 6 components per voxel, reading the first component only\n",
      "Done in 0.0368s\n",
      "Gaussian smoothing: sigma = [0.968, 0.968, 0.53] ... Done in 0.024s\n",
      "Using Normalized Mutual Information metric\n",
      "Initial difference = -0.0289\n",
      "initial estimate provided by center of mass alignment\n",
      "dsm optimizer ftol = 0.01\n",
      "Direction Set Minimization ...\n",
      "Iteration 0\n",
      "-8.262    -70 -18.54      0      0      0 | -0.0528492\n",
      "-8.262 -69.62 -18.54      0      0      0 | -0.0528511\n",
      "-8.262 -69.62 -50.38      0      0      0 | -0.0571083\n",
      "-8.262 -69.62 -50.38 0.2326      0      0 | -0.057113\n",
      "-8.262 -69.62 -50.38 0.2326 -0.4881      0 | -0.0571193\n",
      "-8.262 -69.62 -50.38 0.2326 -0.4881 -6.555 | -0.0576483\n",
      "Iteration 1\n",
      "-8.308 -69.62 -50.38 0.2326 -0.4881 -6.555 | -0.0576519\n",
      "-8.308 -70.12 -50.38 0.2326 -0.4881 -6.555 | -0.0576585\n",
      "-8.308 -70.12  -49.9 0.2326 -0.4881 -6.555 | -0.0576992\n",
      "-8.308 -70.12  -49.9 0.2619 -0.4881 -6.555 | -0.057703\n",
      "-8.308 -70.12  -49.9 0.2619 -0.488 -6.555 | -0.0577031\n",
      "-8.308 -70.12  -49.9 0.2619 -0.488 -6.556 | -0.0577038\n",
      "the decrease from the current step is insufficient\n",
      "cpu time consumed in seconds: 4.76136\n",
      "Final Registration Parameters =   -3.32338   -28.0495   -19.9619 0.00523763 -0.00975913  -0.131116 \n",
      "Final Difference = -0.0577038\n",
      "Total Difference Computation = 145\n",
      "Output the rigid transformation as /home/virk/devs/WorkProjects/PGI/PGIMRI/notebooks/dti_dtitk_scaled_spd.aff\n",
      "inFile = /home/virk/devs/WorkProjects/PGI/PGIMRI/notebooks/dti_dtitk_scaled_spd.nii.gz\n",
      "outFile = /home/virk/devs/WorkProjects/PGI/PGIMRI/notebooks/dti_dtitk_scaled_spd_aff.nii.gz\n",
      "interpolation option is LEI\n",
      "reorientOption = PPD\n",
      "Reading /home/virk/devs/WorkProjects/PGI/PGIMRI/notebooks/dti_dtitk_scaled_spd.nii.gz ... Done in 0.043931s\n",
      "trans (inverse) applied = [13.443, -40.148, -20.079]\n",
      "[ 0.991, -0.131, -0.010;  0.131,  0.991,  0.005;  0.009, -0.006,  1.000]\n",
      "reading output volume specification from ../../nihpd_templates/nihpd_asym_00-02_t1w.nii\n",
      "backward resampling ...time consumed = 1.393\n",
      "Writing /home/virk/devs/WorkProjects/PGI/PGIMRI/notebooks/dti_dtitk_scaled_spd_aff.nii.gz ... Done in 1.666s\n",
      "done\n",
      "\n",
      "done\n",
      "dti_affine_sn iteration 1\n",
      "registering /home/virk/devs/WorkProjects/PGI/PGIMRI/notebooks/dti_dtitk_scaled_spd.nii.gz ...\n",
      "Affine Registration of /home/virk/devs/WorkProjects/PGI/PGIMRI/notebooks/dti_dtitk_scaled_spd.nii.gz to ../../nihpd_templates/nihpd_asym_00-02_t1w.nii\n",
      "Reading ../../nihpd_templates/nihpd_asym_00-02_t1w.nii ... Done in 0.006348s\n",
      "WARNING: qform not defined\n",
      "WARNING: assumed as RPI\n",
      "sampling step size = [4, 4, 4]\n",
      "Gaussian smoothing: sigma = [1.64, 1.64, 1.64] ... Done in 0.493s\n",
      "Reading /home/virk/devs/WorkProjects/PGI/PGIMRI/notebooks/dti_dtitk_scaled_spd.nii.gz ... Warning: Volume uses unexpected NIfTI intent code\n",
      "Warning: /home/virk/devs/WorkProjects/PGI/PGIMRI/notebooks/dti_dtitk_scaled_spd.nii.gz contains 6 components per voxel, reading the first component only\n",
      "Done in 0.0335s\n",
      "Gaussian smoothing: sigma = [0.968, 0.968, 0.53] ... Done in 0.0237s\n",
      "Using Normalized Mutual Information metric\n",
      "Initial difference = -0.0289\n",
      "initial estimate provided by /home/virk/devs/WorkProjects/PGI/PGIMRI/notebooks/dti_dtitk_scaled_spd.aff\n",
      "-3.32\t-28\t-20\t0.00524\t-0.00976\t-0.131\t1\t1\t1\t0\t0\t0\t\n",
      "dsm optimizer ftol = 0.01\n",
      "Direction Set Minimization ...\n",
      "Iteration 0\n",
      "-8.308 -70.12  -49.9 0.2619 -0.488 -6.556 -1.11e-14      0      0      0      0      0 | -0.0577038\n",
      "-8.308 -70.12  -49.9 0.2619 -0.488 -6.556 -1.11e-14      0      0      0      0      0 | -0.0577038\n",
      "-8.308 -70.12  -49.9 0.2619 -0.488 -6.556 -1.11e-14      0      0      0      0      0 | -0.0577038\n",
      "-8.308 -70.12  -49.9 0.2619 -0.488 -6.556 -1.11e-14      0      0      0      0      0 | -0.0577038\n",
      "-8.308 -70.12  -49.9 0.2619 -0.488 -6.556 -1.11e-14      0      0      0      0      0 | -0.0577038\n",
      "-8.308 -70.12  -49.9 0.2619 -0.488 -6.556 -1.11e-14      0      0      0      0      0 | -0.0577038\n",
      "-8.308 -70.12  -49.9 0.2619 -0.488 -6.556 -6.771      0      0      0      0      0 | -0.0622008\n",
      "-8.308 -70.12  -49.9 0.2619 -0.488 -6.556 -6.771 -3.781      0      0      0      0 | -0.0635754\n",
      "-8.308 -70.12  -49.9 0.2619 -0.488 -6.556 -6.771 -3.781 -5.207      0      0      0 | -0.0646972\n",
      "-8.308 -70.12  -49.9 0.2619 -0.488 -6.556 -6.771 -3.781 -5.207      1      0      0 | -0.0651604\n",
      "-8.308 -70.12  -49.9 0.2619 -0.488 -6.556 -6.771 -3.781 -5.207      1 0.4915      0 | -0.0653109\n",
      "-8.308 -70.12  -49.9 0.2619 -0.488 -6.556 -6.771 -3.781 -5.207      1 0.4915  2.121 | -0.0662254\n",
      "Iteration 1\n",
      "-8.926 -70.12  -49.9 0.2619 -0.488 -6.556 -6.771 -3.781 -5.207      1 0.4915  2.121 | -0.0662487\n",
      "-8.926 -69.37  -49.9 0.2619 -0.488 -6.556 -6.771 -3.781 -5.207      1 0.4915  2.121 | -0.0662828\n",
      "-8.926 -69.37 -35.51 0.2619 -0.488 -6.556 -6.771 -3.781 -5.207      1 0.4915  2.121 | -0.0706995\n",
      "-8.926 -69.37 -35.51  4.342 -0.488 -6.556 -6.771 -3.781 -5.207      1 0.4915  2.121 | -0.0711569\n",
      "-8.926 -69.37 -35.51  4.342  1.512 -6.556 -6.771 -3.781 -5.207      1 0.4915  2.121 | -0.0711878\n",
      "-8.926 -69.37 -35.51  4.342  1.512 -6.925 -6.771 -3.781 -5.207      1 0.4915  2.121 | -0.0711935\n",
      "-8.926 -69.37 -35.51  4.342  1.512 -6.925 -6.796 -3.781 -5.207      1 0.4915  2.121 | -0.0711985\n",
      "-8.926 -69.37 -35.51  4.342  1.512 -6.925 -6.796 -3.778 -5.207      1 0.4915  2.121 | -0.0712002\n",
      "-8.926 -69.37 -35.51  4.342  1.512 -6.925 -6.796 -3.778 -9.802      1 0.4915  2.121 | -0.0737185\n",
      "-8.926 -69.37 -35.51  4.342  1.512 -6.925 -6.796 -3.778 -9.802  1.131 0.4915  2.121 | -0.0737416\n",
      "-8.926 -69.37 -35.51  4.342  1.512 -6.925 -6.796 -3.778 -9.802  1.131 0.8089  2.121 | -0.073765\n",
      "-8.926 -69.37 -35.51  4.342  1.512 -6.925 -6.796 -3.778 -9.802  1.131 0.8089  1.667 | -0.0738374\n",
      "Iteration 2\n",
      "-8.031 -68.98 -28.18  6.422  2.531 -7.113 -6.808 -3.777 -12.14  1.198 0.9706  1.436 | -0.0751276\n",
      "-8.031 -64.05 -28.18  6.422  2.531 -7.113 -6.808 -3.777 -12.14  1.198 0.9706  1.436 | -0.0760323\n",
      "-8.031 -64.05 -28.18  6.422  2.531 -7.113 -6.808 -3.777 -12.14  1.198 0.9706  1.643 | -0.076052\n",
      "-8.031 -64.05 -28.18   6.42  2.531 -7.113 -6.808 -3.777 -12.14  1.198 0.9706  1.643 | -0.0760534\n",
      "-8.031 -64.05 -28.18   6.42  1.089 -7.113 -6.808 -3.777 -12.14  1.198 0.9706  1.643 | -0.0762002\n",
      "-8.031 -64.05 -28.18   6.42  1.089 -8.023 -6.808 -3.777 -12.14  1.198 0.9706  1.643 | -0.0763228\n",
      "-8.031 -64.05 -28.18   6.42  1.089 -8.023  -6.81 -3.777 -12.14  1.198 0.9706  1.643 | -0.0763238\n",
      "-8.031 -64.05 -28.18   6.42  1.089 -8.023  -6.81 -4.999 -12.14  1.198 0.9706  1.643 | -0.0765729\n",
      "-8.031 -64.05 -28.18   6.42  1.089 -8.023  -6.81 -4.999 -12.65  1.198 0.9706  1.643 | -0.0766937\n",
      "-8.031 -64.05 -28.18   6.42  1.089 -8.023  -6.81 -4.999 -12.65  1.197 0.9706  1.643 | -0.0766941\n",
      "-8.031 -64.05 -28.18   6.42  1.089 -8.023  -6.81 -4.999 -12.65  1.197  0.649  1.643 | -0.0767414\n",
      "-8.338 -63.67 -21.02  8.451  2.084 -8.207 -6.822 -4.998 -14.94  1.263  0.807  1.417 | -0.0770865\n",
      "Iteration 3\n",
      "-7.127 -63.67 -21.02  8.451  2.084 -8.207 -6.822 -4.998 -14.94  1.263  0.807  1.417 | -0.0772345\n",
      "-7.127 -61.82 -21.02  8.451  2.084 -8.207 -6.822 -4.998 -14.94  1.263  0.807  1.417 | -0.0773617\n",
      "-7.127 -61.82 -21.02  8.451  2.084 -8.207 -6.822 -4.998 -14.94  1.263  0.807  2.035 | -0.0775493\n",
      "-7.127 -61.82 -21.02  9.928  2.084 -8.207 -6.822 -4.998 -14.94  1.263  0.807  2.035 | -0.07775\n",
      "-7.127 -61.82 -21.02  9.928 0.7785 -8.207 -6.822 -4.998 -14.94  1.263  0.807  2.035 | -0.0779424\n",
      "-7.127 -61.82 -21.02  9.928 0.7785 -8.947 -6.822 -4.998 -14.94  1.263  0.807  2.035 | -0.0780095\n",
      "-7.127 -61.82 -21.02  9.928 0.7785 -8.947 -7.009 -4.998 -14.94  1.263  0.807  2.035 | -0.0780299\n"
     ]
    },
    {
     "name": "stdout",
     "output_type": "stream",
     "text": [
      "-7.127 -61.82 -21.02  9.928 0.7785 -8.947 -7.009 -5.025 -14.94  1.263  0.807  2.035 | -0.0780386\n",
      "-7.127 -61.82 -21.02  9.928 0.7785 -8.947 -7.009 -5.025 -16.76  1.263  0.807  2.035 | -0.0788361\n",
      "-7.127 -61.82 -21.02  9.928 0.7785 -8.947 -7.009 -5.025 -16.76  1.224  0.807  2.035 | -0.0788428\n",
      "-7.127 -61.82 -21.02  9.928 0.7785 -8.947 -7.009 -5.025 -16.76  1.224 0.7991  2.035 | -0.0788468\n",
      " -7.25 -61.67 -18.16  10.74  1.176 -9.021 -7.014 -5.024 -17.67   1.25 0.8622  1.945 | -0.0792658\n",
      "Iteration 4\n",
      "-7.387 -61.67 -18.16  10.74  1.176 -9.021 -7.014 -5.024 -17.67   1.25 0.8622  1.945 | -0.079274\n",
      "-7.387 -60.24 -18.16  10.74  1.176 -9.021 -7.014 -5.024 -17.67   1.25 0.8622  1.945 | -0.0793723\n",
      "-7.387 -60.24 -18.16  10.74  1.176 -9.021 -7.014 -5.024 -17.67   1.25 0.8622    2.3 | -0.0794914\n",
      "-7.387 -60.24 -18.16  11.23  1.176 -9.021 -7.014 -5.024 -17.67   1.25 0.8622    2.3 | -0.0795563\n",
      "-7.387 -60.24 -18.16  11.23 -0.6694 -9.021 -7.014 -5.024 -17.67   1.25 0.8622    2.3 | -0.0796762\n",
      "-7.387 -60.24 -18.16  11.23 -0.6694 -9.639 -7.014 -5.024 -17.67   1.25 0.8622    2.3 | -0.0796954\n",
      "-7.387 -60.24 -18.16  11.23 -0.6694 -9.639 -6.856 -5.024 -17.67   1.25 0.8622    2.3 | -0.0797119\n",
      "-7.387 -60.24 -18.16  11.23 -0.6694 -9.639 -6.856 -4.996 -17.67   1.25 0.8622    2.3 | -0.0797178\n",
      "-7.387 -60.24 -18.16  11.23 -0.6694 -9.639 -6.856 -4.996 -18.29   1.25 0.8622    2.3 | -0.0797599\n",
      "-7.387 -60.24 -18.16  11.23 -0.6694 -9.639 -6.856 -4.996 -18.29  1.405 0.8622    2.3 | -0.0797748\n",
      "-7.387 -60.24 -18.16  11.23 -0.6694 -9.639 -6.856 -4.996 -18.29  1.405 0.7238    2.3 | -0.0797957\n",
      " -7.46 -60.15 -16.46  11.72 -0.4332 -9.682 -6.859 -4.996 -18.83   1.42 0.7613  2.246 | -0.080016\n",
      "the decrease from the current step is insufficient\n",
      "cpu time consumed in seconds: 24.8472\n",
      "Final Registration Parameters = -2.98397\t-24.0608\t-6.58305\t0.234321\t-0.00866425\t-0.193647\t0.931412\t0.950045\t0.811709\t0.0284065\t0.0152261\t0.0449201\t\n",
      "Final Difference = -0.080016\n",
      "Total Difference Computation = 719\n",
      "Output the affine transformation as /home/virk/devs/WorkProjects/PGI/PGIMRI/notebooks/dti_dtitk_scaled_spd.aff\n",
      "inFile = /home/virk/devs/WorkProjects/PGI/PGIMRI/notebooks/dti_dtitk_scaled_spd.nii.gz\n",
      "outFile = /home/virk/devs/WorkProjects/PGI/PGIMRI/notebooks/dti_dtitk_scaled_spd_aff.nii.gz\n",
      "interpolation option is LEI\n",
      "reorientOption = PPD\n",
      "Reading /home/virk/devs/WorkProjects/PGI/PGIMRI/notebooks/dti_dtitk_scaled_spd.nii.gz ... Done in 0.041811s\n",
      "trans (inverse) applied = [28.887, -43.928, 44.032]\n",
      "[ 0.846, -0.146,  0.000;  0.191,  0.877,  0.197; -0.024, -0.166,  0.633]\n",
      "reading output volume specification from ../../nihpd_templates/nihpd_asym_00-02_t1w.nii\n",
      "backward resampling ...time consumed = 1.942\n",
      "Writing /home/virk/devs/WorkProjects/PGI/PGIMRI/notebooks/dti_dtitk_scaled_spd_aff.nii.gz ... Done in 2.227s\n",
      "done\n",
      "\n",
      "done\n",
      "inFile = dti_template_bootstrap_29515\n",
      "outFile = mean_initial.nii.gz\n",
      "type = ORIGINAL\n",
      "interpolation option is LEI\n",
      "subject 1 : /home/virk/devs/WorkProjects/PGI/PGIMRI/notebooks/dti_dtitk_scaled_spd_aff.nii.gz\n",
      "Reading /home/virk/devs/WorkProjects/PGI/PGIMRI/notebooks/dti_dtitk_scaled_spd_aff.nii.gz ... Done in 0.465095s\n",
      "Voxelwise scaling /home/virk/devs/WorkProjects/PGI/PGIMRI/notebooks/dti_dtitk_scaled_spd_aff.nii.gz by 1 ... Done in 0.037s\n",
      "Writing mean_initial.nii.gz ... Done in 2.32784s\n",
      "Initial bootstrapped template is computed and saved as mean_initial.nii.gz\n"
     ]
    }
   ],
   "source": [
    "#! [WARNING] NORM files does not work. Use others\n",
    "!dti_template_bootstrap {template_path} subjects_list.txt"
   ]
  },
  {
   "cell_type": "code",
   "execution_count": 20,
   "metadata": {
    "ExecuteTime": {
     "end_time": "2021-08-15T11:49:45.982614Z",
     "start_time": "2021-08-15T11:49:45.870079Z"
    }
   },
   "outputs": [
    {
     "name": "stdout",
     "output_type": "stream",
     "text": [
      " dti_dtitk.nii.gz\r\n",
      " dti_dtitk_nonSPD.nii.gz\r\n",
      " dti_dtitk_norm.nii.gz\r\n",
      " dti_dtitk_norm_non_outliers.nii.gz\r\n",
      " dti_dtitk_scaled.nii.gz\r\n",
      " dti_dtitk_scaled_nonSPD.nii.gz\r\n",
      " dti_dtitk_scaled_spd.aff\r\n",
      " dti_dtitk_scaled_spd_aff.nii.gz\r\n",
      " dti_dtitk_scaled_spd.nii.gz\r\n",
      " dti_dtitk_scaled_spd_norm.nii.gz\r\n",
      " DTI_ITC.ipynb\r\n",
      " dti_L1.nii.gz\r\n",
      " dti_L2.nii.gz\r\n",
      " dti_L3.nii.gz\r\n",
      "'DTI-TK image registration_ALL_STEPS.ipynb'\r\n",
      "'DTI-TK image registration example.ipynb'\r\n",
      "'DTI-TK image registration.ipynb'\r\n",
      " dti_V1.nii.gz\r\n",
      " dti_V2.nii.gz\r\n",
      " dti_V3.nii.gz\r\n",
      " mean_initial.nii.gz\r\n",
      " reference_axial_tensor.png\r\n",
      " reference_coronal_tensor.png\r\n",
      " subjects_list_aff_diffeo.txt\r\n",
      " subjects_list_aff.txt\r\n",
      " subjects_list.txt\r\n"
     ]
    }
   ],
   "source": [
    "!ls"
   ]
  },
  {
   "cell_type": "code",
   "execution_count": 21,
   "metadata": {
    "ExecuteTime": {
     "end_time": "2021-08-15T11:50:08.529307Z",
     "start_time": "2021-08-15T11:49:47.349084Z"
    }
   },
   "outputs": [
    {
     "name": "stdout",
     "output_type": "stream",
     "text": [
      "Reading dti_dtitk_scaled_spd_aff.nii.gz ... Done in 0.469017s\n",
      "press the key 'H' to print a list of the available control keystrokes\n",
      "total number of colors = 262144\n",
      "processing the selected axial slice ... done rendering \n"
     ]
    }
   ],
   "source": [
    "# output affine filepath\n",
    "dtitk_aff_path = dtitk_path.replace(\"_dtitk.nii.gz\", \"_dtitk_scaled_spd_aff.nii.gz\")\n",
    "\n",
    "!TVglyphView -in {dtitk_aff_path} -scale 0.001 -view cornonal"
   ]
  },
  {
   "cell_type": "markdown",
   "metadata": {},
   "source": [
    "#### 3. Rigid alignment with template refinement\n",
    "\n",
    "    dti_rigid_reg template.nii.gz tensor.nii.gz EDS 4 4 4 0.01 1\n"
   ]
  },
  {
   "cell_type": "code",
   "execution_count": 24,
   "metadata": {
    "ExecuteTime": {
     "end_time": "2021-08-15T09:49:43.696381Z",
     "start_time": "2021-08-15T09:49:43.693702Z"
    },
    "scrolled": true
   },
   "outputs": [],
   "source": [
    "# !dti_rigid_reg {template_path} {dtitk_path} EDS 4 4 4 0.01"
   ]
  },
  {
   "cell_type": "markdown",
   "metadata": {},
   "source": [
    "#### 4. Affine alignment with template refinement"
   ]
  },
  {
   "cell_type": "code",
   "execution_count": 27,
   "metadata": {
    "ExecuteTime": {
     "end_time": "2021-08-15T09:54:22.006376Z",
     "start_time": "2021-08-15T09:54:06.386706Z"
    },
    "scrolled": true
   },
   "outputs": [
    {
     "name": "stdout",
     "output_type": "stream",
     "text": [
      "command:  mean_initial.nii.gz subjects_list.txt EDS 3\n",
      "Sun 15 Aug 2021 03:24:06 PM IST\n",
      "dti_affine_population iteration 1\n",
      "dti_affine_sn iteration 1\n",
      "registering /home/virk/devs/WorkProjects/PGI/PGIMRI/notebooks/dti_dtitk.nii.gz ...\n",
      "Affine Registration of /home/virk/devs/WorkProjects/PGI/PGIMRI/notebooks/dti_dtitk.nii.gz to mean_affine0.nii.gz\n",
      "Similarity Measure : EDS\n",
      "Reorient Option : FS\n",
      "Reading mean_affine0.nii.gz ... Done in 0.069863s\n",
      "sampling step size = [2, 2, 2]\n",
      "Gaussian smoothing: sigma = [0.873, 0.873, 0.624] ... Done in 0.221s\n",
      "Reading /home/virk/devs/WorkProjects/PGI/PGIMRI/notebooks/dti_dtitk.nii.gz ... Done in 0.0344s\n",
      "Gaussian smoothing: sigma = [0.968, 0.968, 0.53] ... Done in 0.127s\n",
      "Initial Difference = 6.45e+06\n",
      "initial estimate provided by /home/virk/devs/WorkProjects/PGI/PGIMRI/notebooks/dti_dtitk.aff\n",
      "-19.3\t-6.76\t-14.9\t0.196\t-0.0252\t-0.182\t0.896\t0.925\t0.956\t0.0108\t0.00741\t-0.0521\t\n",
      "cgm optimizer ftol = 0.01\n",
      "both iteration 0 = 1.28e+05\n",
      "both iteration 1 = 6.6e+04\n",
      "both iteration 2 = 6.48e+04\n",
      "both iteration 3 = 6.48e+04\n",
      "cpu time consumed in seconds: 1.45\n",
      "Final Registration Parameters = -19.3\t-6.75\t-14.9\t0.196\t-0.0253\t-0.182\t0.9\t0.93\t0.963\t0.0107\t0.00758\t-0.0541\t\n",
      "Final Difference = 6.48e+04\n",
      "Total Difference Computation = 34\n",
      "Total Gradient Computation = 4\n",
      "Output the affine transformation as /home/virk/devs/WorkProjects/PGI/PGIMRI/notebooks/dti_dtitk.aff\n",
      "inFile = /home/virk/devs/WorkProjects/PGI/PGIMRI/notebooks/dti_dtitk.nii.gz\n",
      "outFile = /home/virk/devs/WorkProjects/PGI/PGIMRI/notebooks/dti_dtitk_aff.nii.gz\n",
      "interpolation option is LEI\n",
      "reorientOption = PPD\n",
      "Reading /home/virk/devs/WorkProjects/PGI/PGIMRI/notebooks/dti_dtitk.nii.gz ... Done in 0.042712s\n",
      "trans (inverse) applied = [19.722, -14.093, 15.408]\n",
      "[ 0.796, -0.142, -0.007;  0.155,  0.826,  0.134; -0.004, -0.219,  0.922]\n",
      "reading output volume specification from mean_affine0.nii.gz\n",
      "backward resampling ...time consumed = 0.288\n",
      "Writing /home/virk/devs/WorkProjects/PGI/PGIMRI/notebooks/dti_dtitk_aff.nii.gz ... Done in 0.294s\n",
      "done\n",
      "\n",
      "done\n",
      "Input affine transformation = [19.722, -14.093, 15.408]\n",
      "[ 0.796, -0.142, -0.007;  0.155,  0.826,  0.134; -0.004, -0.219,  0.922]\n",
      "Compose the input transformation with average_inv.aff ...\n",
      "Saving the output transformation as /home/virk/devs/WorkProjects/PGI/PGIMRI/notebooks/dti_dtitk.aff\n",
      "inFile = /home/virk/devs/WorkProjects/PGI/PGIMRI/notebooks/dti_dtitk.nii.gz\n",
      "outFile = /home/virk/devs/WorkProjects/PGI/PGIMRI/notebooks/dti_dtitk_aff.nii.gz\n",
      "interpolation option is LEI\n",
      "reorientOption = PPD\n",
      "Reading /home/virk/devs/WorkProjects/PGI/PGIMRI/notebooks/dti_dtitk.nii.gz ... Done in 0.044015s\n",
      "trans (inverse) applied = [ 3.842, -36.377,  9.451]\n",
      "[ 0.984, -0.176, -0.025;  0.178,  0.965,  0.195; -0.010, -0.196,  0.981]\n",
      "reading output volume specification from mean_affine0.nii.gz\n",
      "backward resampling ...time consumed = 0.208\n",
      "Writing /home/virk/devs/WorkProjects/PGI/PGIMRI/notebooks/dti_dtitk_aff.nii.gz ... Done in 0.231s\n",
      "inFile = subjects_list_aff.txt\n",
      "outFile = mean_affine1.nii.gz\n",
      "type = ORIGINAL\n",
      "interpolation option is LEI\n",
      "subject 1 : /home/virk/devs/WorkProjects/PGI/PGIMRI/notebooks/dti_dtitk_aff.nii.gz\n",
      "Reading /home/virk/devs/WorkProjects/PGI/PGIMRI/notebooks/dti_dtitk_aff.nii.gz ... Done in 0.056209s\n",
      "Voxelwise scaling /home/virk/devs/WorkProjects/PGI/PGIMRI/notebooks/dti_dtitk_aff.nii.gz by 1 ... Done in 0.005619s\n",
      "Writing mean_affine1.nii.gz ... Done in 0.236877s\n",
      "Similarity = 5.75421e+06\n",
      "dti_affine_population iteration 2\n",
      "dti_affine_sn iteration 1\n",
      "registering /home/virk/devs/WorkProjects/PGI/PGIMRI/notebooks/dti_dtitk.nii.gz ...\n",
      "Affine Registration of /home/virk/devs/WorkProjects/PGI/PGIMRI/notebooks/dti_dtitk.nii.gz to mean_affine1.nii.gz\n",
      "Similarity Measure : EDS\n",
      "Reorient Option : FS\n",
      "Reading mean_affine1.nii.gz ... Done in 0.05931s\n",
      "sampling step size = [2, 2, 2]\n",
      "Gaussian smoothing: sigma = [0.873, 0.873, 0.624] ... Done in 0.237s\n",
      "Reading /home/virk/devs/WorkProjects/PGI/PGIMRI/notebooks/dti_dtitk.nii.gz ... Done in 0.0386s\n",
      "Gaussian smoothing: sigma = [0.968, 0.968, 0.53] ... Done in 0.126s\n",
      "Initial Difference = 5.14e+06\n",
      "initial estimate provided by /home/virk/devs/WorkProjects/PGI/PGIMRI/notebooks/dti_dtitk.aff\n",
      "-19.3\t-6.75\t-14.9\t0.196\t-0.0253\t-0.182\t1\t1\t1\t5.55e-17\t0\t0\t\n",
      "cgm optimizer ftol = 0.01\n",
      "both iteration 0 = 7.8e+04\n",
      "both iteration 1 = 3.46e+04\n",
      "both iteration 2 = 3.32e+04\n",
      "both iteration 3 = 3.32e+04\n",
      "cpu time consumed in seconds: 0.981\n",
      "Final Registration Parameters = -19.3\t-6.75\t-14.8\t0.197\t-0.0256\t-0.183\t1.01\t1\t1.01\t-0.000151\t0.000578\t-0.00229\t\n",
      "Final Difference = 3.32e+04\n",
      "Total Difference Computation = 27\n",
      "Total Gradient Computation = 4\n",
      "Output the affine transformation as /home/virk/devs/WorkProjects/PGI/PGIMRI/notebooks/dti_dtitk.aff\n",
      "inFile = /home/virk/devs/WorkProjects/PGI/PGIMRI/notebooks/dti_dtitk.nii.gz\n",
      "outFile = /home/virk/devs/WorkProjects/PGI/PGIMRI/notebooks/dti_dtitk_aff.nii.gz\n",
      "interpolation option is LEI\n",
      "reorientOption = PPD\n",
      "Reading /home/virk/devs/WorkProjects/PGI/PGIMRI/notebooks/dti_dtitk.nii.gz ... Done in 0.040663s\n",
      "trans (inverse) applied = [ 2.978, -37.725,  8.951]\n",
      "[ 0.994, -0.179, -0.024;  0.180,  0.973,  0.197; -0.010, -0.201,  0.995]\n",
      "reading output volume specification from mean_affine1.nii.gz\n",
      "backward resampling ...time consumed = 0.205\n",
      "Writing /home/virk/devs/WorkProjects/PGI/PGIMRI/notebooks/dti_dtitk_aff.nii.gz ... Done in 0.242s\n",
      "done\n",
      "\n",
      "done\n",
      "Input affine transformation = [ 2.978, -37.725,  8.951]\n",
      "[ 0.994, -0.179, -0.024;  0.180,  0.973,  0.197; -0.010, -0.201,  0.995]\n",
      "Compose the input transformation with average_inv.aff ...\n",
      "Saving the output transformation as /home/virk/devs/WorkProjects/PGI/PGIMRI/notebooks/dti_dtitk.aff\n",
      "inFile = /home/virk/devs/WorkProjects/PGI/PGIMRI/notebooks/dti_dtitk.nii.gz\n",
      "outFile = /home/virk/devs/WorkProjects/PGI/PGIMRI/notebooks/dti_dtitk_aff.nii.gz\n",
      "interpolation option is LEI\n",
      "reorientOption = PPD\n",
      "Reading /home/virk/devs/WorkProjects/PGI/PGIMRI/notebooks/dti_dtitk.nii.gz ... Done in 0.040461s\n",
      "trans (inverse) applied = [ 3.917, -36.460,  9.606]\n",
      "[ 0.984, -0.177, -0.025;  0.178,  0.964,  0.196; -0.010, -0.197,  0.980]\n",
      "reading output volume specification from mean_affine1.nii.gz\n",
      "backward resampling ...time consumed = 0.218\n",
      "Writing /home/virk/devs/WorkProjects/PGI/PGIMRI/notebooks/dti_dtitk_aff.nii.gz ... Done in 0.255s\n",
      "inFile = subjects_list_aff.txt\n",
      "outFile = mean_affine2.nii.gz\n",
      "type = ORIGINAL\n",
      "interpolation option is LEI\n",
      "subject 1 : /home/virk/devs/WorkProjects/PGI/PGIMRI/notebooks/dti_dtitk_aff.nii.gz\n",
      "Reading /home/virk/devs/WorkProjects/PGI/PGIMRI/notebooks/dti_dtitk_aff.nii.gz ... Done in 0.063495s\n",
      "Voxelwise scaling /home/virk/devs/WorkProjects/PGI/PGIMRI/notebooks/dti_dtitk_aff.nii.gz by 1 ... Done in 0.005147s\n",
      "Writing mean_affine2.nii.gz ... Done in 0.260336s\n",
      "Similarity = 1918.01\n",
      "dti_affine_population iteration 3\n",
      "dti_affine_sn iteration 1\n",
      "registering /home/virk/devs/WorkProjects/PGI/PGIMRI/notebooks/dti_dtitk.nii.gz ...\n",
      "Affine Registration of /home/virk/devs/WorkProjects/PGI/PGIMRI/notebooks/dti_dtitk.nii.gz to mean_affine2.nii.gz\n",
      "Similarity Measure : EDS\n",
      "Reorient Option : FS\n",
      "Reading mean_affine2.nii.gz ... Done in 0.058183s\n",
      "sampling step size = [2, 2, 2]\n",
      "Gaussian smoothing: sigma = [0.873, 0.873, 0.624] ... Done in 0.217s\n",
      "Reading /home/virk/devs/WorkProjects/PGI/PGIMRI/notebooks/dti_dtitk.nii.gz ... Done in 0.035s\n",
      "Gaussian smoothing: sigma = [0.968, 0.968, 0.53] ... Done in 0.119s\n",
      "Initial Difference = 5.13e+06\n",
      "initial estimate provided by /home/virk/devs/WorkProjects/PGI/PGIMRI/notebooks/dti_dtitk.aff\n",
      "-19.3\t-6.75\t-14.8\t0.197\t-0.0256\t-0.183\t1\t1\t1\t-9.02e-17\t8.33e-17\t-1.67e-16\t\n",
      "cgm optimizer ftol = 0.01\n",
      "both iteration 0 = 7.87e+04\n",
      "both iteration 1 = 3.44e+04\n",
      "both iteration 2 = 3.3e+04\n",
      "both iteration 3 = 3.3e+04\n",
      "cpu time consumed in seconds: 0.973\n",
      "Final Registration Parameters = -19.3\t-6.76\t-14.8\t0.198\t-0.0258\t-0.183\t1.01\t1\t1.01\t-0.000124\t0.000536\t-0.00231\t\n",
      "Final Difference = 3.3e+04\n",
      "Total Difference Computation = 27\n",
      "Total Gradient Computation = 4\n",
      "Output the affine transformation as /home/virk/devs/WorkProjects/PGI/PGIMRI/notebooks/dti_dtitk.aff\n",
      "inFile = /home/virk/devs/WorkProjects/PGI/PGIMRI/notebooks/dti_dtitk.nii.gz\n",
      "outFile = /home/virk/devs/WorkProjects/PGI/PGIMRI/notebooks/dti_dtitk_aff.nii.gz\n",
      "interpolation option is LEI\n",
      "reorientOption = PPD\n"
     ]
    },
    {
     "name": "stdout",
     "output_type": "stream",
     "text": [
      "Reading /home/virk/devs/WorkProjects/PGI/PGIMRI/notebooks/dti_dtitk.nii.gz ... Done in 0.039967s\n",
      "trans (inverse) applied = [ 3.057, -37.811,  9.117]\n",
      "[ 0.994, -0.179, -0.025;  0.180,  0.973,  0.197; -0.010, -0.202,  0.995]\n",
      "reading output volume specification from mean_affine2.nii.gz\n",
      "backward resampling ...time consumed = 0.210\n",
      "Writing /home/virk/devs/WorkProjects/PGI/PGIMRI/notebooks/dti_dtitk_aff.nii.gz ... Done in 0.236s\n",
      "done\n",
      "\n",
      "done\n",
      "Input affine transformation = [ 3.057, -37.811,  9.117]\n",
      "[ 0.994, -0.179, -0.025;  0.180,  0.973,  0.197; -0.010, -0.202,  0.995]\n",
      "Compose the input transformation with average_inv.aff ...\n",
      "Saving the output transformation as /home/virk/devs/WorkProjects/PGI/PGIMRI/notebooks/dti_dtitk.aff\n",
      "inFile = /home/virk/devs/WorkProjects/PGI/PGIMRI/notebooks/dti_dtitk.nii.gz\n",
      "outFile = /home/virk/devs/WorkProjects/PGI/PGIMRI/notebooks/dti_dtitk_aff.nii.gz\n",
      "interpolation option is LEI\n",
      "reorientOption = PPD\n",
      "Reading /home/virk/devs/WorkProjects/PGI/PGIMRI/notebooks/dti_dtitk.nii.gz ... Done in 0.042293s\n",
      "trans (inverse) applied = [ 3.991, -36.543,  9.764]\n",
      "[ 0.984, -0.177, -0.025;  0.179,  0.964,  0.197; -0.010, -0.198,  0.980]\n",
      "reading output volume specification from mean_affine2.nii.gz\n",
      "backward resampling ...time consumed = 0.230\n",
      "Writing /home/virk/devs/WorkProjects/PGI/PGIMRI/notebooks/dti_dtitk_aff.nii.gz ... Done in 0.254s\n",
      "inFile = subjects_list_aff.txt\n",
      "outFile = mean_affine3.nii.gz\n",
      "type = ORIGINAL\n",
      "interpolation option is LEI\n",
      "subject 1 : /home/virk/devs/WorkProjects/PGI/PGIMRI/notebooks/dti_dtitk_aff.nii.gz\n",
      "Reading /home/virk/devs/WorkProjects/PGI/PGIMRI/notebooks/dti_dtitk_aff.nii.gz ... Done in 0.062612s\n",
      "Voxelwise scaling /home/virk/devs/WorkProjects/PGI/PGIMRI/notebooks/dti_dtitk_aff.nii.gz by 1 ... Done in 0.006253s\n",
      "Writing mean_affine3.nii.gz ... Done in 0.243289s\n",
      "Similarity = 1892.27\n"
     ]
    }
   ],
   "source": [
    "!dti_affine_population mean_initial.nii.gz subjects_list.txt MNI 3 # MNI is more robust than EDS"
   ]
  },
  {
   "cell_type": "code",
   "execution_count": null,
   "metadata": {},
   "outputs": [],
   "source": [
    "# !TVglyphView -in mean_affine3.nii.gz -scale 0.001"
   ]
  },
  {
   "cell_type": "code",
   "execution_count": 29,
   "metadata": {
    "ExecuteTime": {
     "end_time": "2021-08-15T09:58:38.746714Z",
     "start_time": "2021-08-15T09:58:26.621953Z"
    }
   },
   "outputs": [
    {
     "name": "stdout",
     "output_type": "stream",
     "text": [
      "Reading dti_dtitk_aff.nii.gz ... Done in 0.059151s\n",
      "press the key 'H' to print a list of the available control keystrokes\n",
      "total number of colors = 262144\n",
      "processing the selected axial slice ... done rendering \n"
     ]
    }
   ],
   "source": [
    "!TVglyphView -in {dtitk_aff_path} -scale 0.001"
   ]
  },
  {
   "cell_type": "markdown",
   "metadata": {},
   "source": [
    "#### 5. Deformable alignment with template refinement"
   ]
  },
  {
   "cell_type": "code",
   "execution_count": 30,
   "metadata": {
    "ExecuteTime": {
     "end_time": "2021-08-15T10:01:09.352257Z",
     "start_time": "2021-08-15T10:01:08.854202Z"
    }
   },
   "outputs": [
    {
     "name": "stdout",
     "output_type": "stream",
     "text": [
      "Reading mean_affine3.nii.gz ... Done in 0.060658s\n",
      "Computing the tensor trace (mean diffusion) map ... Done in 0.004092s\n",
      "Writing mean_affine3_tr.nii.gz ... Done in 0.040789s\n"
     ]
    }
   ],
   "source": [
    "!TVtool -in mean_affine3.nii.gz -tr\n",
    "!BinaryThresholdImageFilter mean_affine3_tr.nii.gz mask.nii.gz 0.01 100 1 0"
   ]
  },
  {
   "cell_type": "code",
   "execution_count": 34,
   "metadata": {
    "ExecuteTime": {
     "end_time": "2021-08-15T10:31:20.394459Z",
     "start_time": "2021-08-15T10:23:14.377882Z"
    },
    "scrolled": true
   },
   "outputs": [
    {
     "name": "stdout",
     "output_type": "stream",
     "text": [
      "registering dti_dtitk_aff.nii.gz to ixi_aging_template.nii.gz ...\n",
      "starting at Sun 15 Aug 2021 03:53:14 PM IST\n",
      "\n",
      "iteration 1 begins ...\n",
      "Similarity Measure : DDS, Reorient Option : FS\n",
      "Reading ixi_aging_template.nii.gz ... Done in 0.073992s\n",
      "Reading dti_dtitk_aff_diffeo.nii.gz ... Done in 0.060887s\n",
      "Reading ixi_aging_template_brain_mask.nii.gz ... Done in 0.001898s\n",
      "starting level 2, ending level 5\n",
      "Level 2\n",
      "Piecewise Affine Setup: size = 8, 8, 4; vsize = 28, 28, 36\n",
      "pDim = 3072; scalings : img = 0.06, prior = 0.1, reg = 0.04; ftol = 0.002\n",
      "before : sum = 8918.52, img = 148642, prior = 0, reg = 0\n",
      "iter 0: sum = 8918.52, img = 148642, prior = 0, reg = 0\n",
      "iter 1: sum = 8522.01, img = 138225, prior = 30.0961, reg = 5637.05\n",
      "iter 2: sum = 8477.13, img = 139805, prior = 36.9991, reg = 2128.68\n",
      "iter 3: sum = 8477.04, img = 139708, prior = 36.7182, reg = 2272.45\n",
      "iter = 27, iterGrad = 4\n",
      "after : sum = 8477.03, img = 139684, prior = 36.6524, reg = 2308.31\n",
      "Level 3\n",
      "Piecewise Affine Setup: size = 16, 16, 8; vsize = 14, 14, 18\n",
      "pDim = 24576; scalings : img = 0.06, prior = 0.1, reg = 0.04; ftol = 0.002\n",
      "before : sum = 8477.03, img = 139683, prior = 36.649, reg = 2310.21\n",
      "iter 0: sum = 8477.03, img = 139683, prior = 36.649, reg = 2310.21\n",
      "iter 1: sum = 8351.76, img = 137487, prior = 93.5113, reg = 2329.14\n",
      "iter 2: sum = 8296.73, img = 137217, prior = 102.135, reg = 1337.81\n",
      "iter 3: sum = 8192.73, img = 133294, prior = 278.744, reg = 4180.08\n",
      "iter 4: sum = 8016.52, img = 125898, prior = 1041.63, reg = 8962.14\n",
      "iter 5: sum = 7840.1, img = 123627, prior = 1566.41, reg = 6646.42\n",
      "iter 6: sum = 7779.85, img = 123179, prior = 1667.85, reg = 5557.95\n",
      "iter 7: sum = 7728.1, img = 123052, prior = 1598.09, reg = 4629.79\n",
      "iter 8: sum = 7687.09, img = 122774, prior = 1514.7, reg = 4229.3\n",
      "iter 9: sum = 7654.4, img = 122323, prior = 1499.97, reg = 4124.76\n",
      "iter 10: sum = 7608.67, img = 121344, prior = 1593.12, reg = 4217.55\n",
      "iter 11: sum = 7564.47, img = 120147, prior = 1760.79, reg = 4488.73\n",
      "iter 12: sum = 7527.97, img = 119177, prior = 1883.48, reg = 4725.23\n",
      "iter 13: sum = 7484.28, img = 117956, prior = 2079.83, reg = 4972.78\n",
      "iter 14: sum = 7444.25, img = 116855, prior = 2322.96, reg = 5016\n",
      "iter 15: sum = 7414.51, img = 115876, prior = 2525.73, reg = 5234.86\n",
      "iter 16: sum = 7391.23, img = 115066, prior = 2693.46, reg = 5448.71\n",
      "iter 17: sum = 7372.65, img = 114599, prior = 2788.56, reg = 5445.76\n",
      "iter 18: sum = 7360.05, img = 114375, prior = 2845.47, reg = 5324.55\n",
      "iter = 148, iterGrad = 19\n",
      "after : sum = 7354.61, img = 114420, prior = 2823.1, reg = 5177.92\n",
      "Level 4\n",
      "Piecewise Affine Setup: size = 32, 32, 16; vsize = 7, 7, 9\n",
      "pDim = 196608; scalings : img = 0.06, prior = 0.1, reg = 0.04; ftol = 0.002\n",
      "before : sum = 7354.61, img = 114418, prior = 2824.1, reg = 5178.26\n",
      "iter 0: sum = 7354.61, img = 114418, prior = 2824.1, reg = 5178.26\n",
      "iter 1: sum = 7116.38, img = 111086, prior = 2506.01, reg = 5015.02\n",
      "iter 2: sum = 7053.64, img = 110780, prior = 2466.08, reg = 4005.68\n",
      "iter 3: sum = 6982.01, img = 108151, prior = 2542.36, reg = 5968.29\n",
      "iter 4: sum = 6945.57, img = 106302, prior = 2756.98, reg = 7294.38\n",
      "iter 5: sum = 6920.48, img = 105631, prior = 3027.79, reg = 6995.68\n",
      "iter 6: sum = 6902.79, img = 105230, prior = 3256.46, reg = 6584\n",
      "iter 7: sum = 6896.54, img = 105049, prior = 3377.76, reg = 6395.1\n",
      "iter = 65, iterGrad = 8\n",
      "after : sum = 6891.94, img = 104880, prior = 3369.1, reg = 6555.57\n",
      "Level 5\n",
      "Piecewise Affine Setup: size = 64, 64, 32; vsize = 3.5, 3.5, 4.5\n",
      "pDim = 1572864; scalings : img = 0.06, prior = 0.1, reg = 0.04; ftol = 0.002\n",
      "before : sum = 6891.94, img = 104888, prior = 3369.39, reg = 6542.4\n",
      "iter 0: sum = 6891.94, img = 104888, prior = 3369.39, reg = 6542.4\n",
      "iter 1: sum = 6663.57, img = 101315, prior = 3109.41, reg = 6843.44\n",
      "iter 2: sum = 6602.61, img = 101272, prior = 2996.85, reg = 5665.19\n",
      "iter 3: sum = 6482.83, img = 97644.8, prior = 2688.07, reg = 8883.25\n",
      "iter 4: sum = 6402.39, img = 94466, prior = 2645.82, reg = 11746.3\n",
      "iter 5: sum = 6376.96, img = 94090, prior = 2752.64, reg = 11407.4\n",
      "iter 6: sum = 6347.74, img = 93661.8, prior = 3012.37, reg = 10669.8\n",
      "iter 7: sum = 6331.39, img = 93468.8, prior = 3255.91, reg = 9941.79\n",
      "iter 8: sum = 6319.51, img = 93022, prior = 3404.33, reg = 9944.08\n",
      "iter = 74, iterGrad = 9\n",
      "after : sum = 6311.52, img = 92757.6, prior = 3401.1, reg = 10149.5\n",
      "Little Endian System\n",
      "Writing VECTORS ...\n",
      "size is currently determined internally.\n",
      "vsize = 1, 1, 1\n",
      "origin is currently default to [0, 0, 0].\n",
      "outFile = dti_dtitk_aff_to_ixi_aging_template.5.df.nii.gz\n",
      "Little Endian System\n",
      "Reading VECTORS ...\n",
      "Writing dti_dtitk_aff_to_ixi_aging_template.5.df.nii.gz ... Done in 3.4986s\n",
      "converting to the diffeomorphic deformation field: ...\n",
      "Reading dti_dtitk_aff_to_ixi_aging_template.5.df.nii.gz ... Done in 0.438679s\n",
      "Gaussian smoothing: sigma = [   1,    1,    1] ... Done in 0.954s\n",
      "Gaussian smoothing: sigma = [   1,    1,    1] ... Done in 0.914s\n",
      "maxNorm = 6.59\titerations = 13\n",
      "Voxelwise scaling dti_dtitk_aff_to_ixi_aging_template.5.df.nii.gz by 0.000122 ... Done in 0.0217s\n",
      ". . . . . . . . . . . . . \n",
      "Writing dti_dtitk_aff_to_ixi_aging_template.5.df.nii.gz ... Done in 3.37s\n",
      "Reading ixi_aging_template_brain_mask.nii.gz ... Done in 0.003118s\n",
      "input volume ixi_aging_template_brain_mask.nii.gz\n",
      "size: 128x128x64, voxel size: 1.75x1.75x2.25, origin: [0, 0, -0]\n",
      "reading output volume specification from dti_dtitk_aff_to_ixi_aging_template.5.df.nii.gz\n",
      "output volume specification: size: 224x224x144, voxel size: 1x1x1, origin: [0, 0, 0]\n",
      "matching the center of the old and the new voxel spaces\n",
      "Writing dti_dtitk_aff_jac_mask.nii.gz ... Done in 0.174204s\n",
      "inFile = dti_dtitk_aff_to_ixi_aging_template.5.df.nii.gz\n",
      "Reading dti_dtitk_aff_to_ixi_aging_template.5.df.nii.gz ... Done in 0.441716s\n",
      "outFile = dti_dtitk_aff_to_ixi_aging_template.5.df_jac.nii.gz\n",
      "Writing dti_dtitk_aff_to_ixi_aging_template.5.df_jac.nii.gz ... Done in 2.57546s\n",
      "JACOBIAN STATISTICS: after current iteration mean = 1.00953 min = 0.465046 max = 2.38828 # of voxels = 1.78546e+06\n",
      "inFile = dti_dtitk_aff.nii.gz\n",
      "outFile = dti_dtitk_aff_diffeo_current.nii.gz\n",
      "transFile = dti_dtitk_aff_to_ixi_aging_template.5.df.nii.gz\n",
      "df option is FD\n",
      "interpolation option is LEI\n",
      "reorientOption = PPD\n",
      "Reading dti_dtitk_aff.nii.gz ... Done in 0.056421s\n",
      "Reading dti_dtitk_aff_to_ixi_aging_template.5.df.nii.gz ... Done in 0.445916s\n",
      "backward resampling ...time consumed = 1.58256\n",
      "Writing dti_dtitk_aff_diffeo_current.nii.gz ... Done in 0.568022s\n",
      "IMAGE SIMILARITY: after previous iteration = 148807 after current iteration = 102878\n",
      "iteration 1 done\n",
      "\n",
      "\n",
      "iteration 2 begins ...\n",
      "Similarity Measure : DDS, Reorient Option : FS\n",
      "Reading ixi_aging_template.nii.gz ... Done in 0.068128s\n",
      "Reading dti_dtitk_aff_diffeo.nii.gz ... Done in 0.07044s\n",
      "Reading ixi_aging_template_brain_mask.nii.gz ... Done in 0.002067s\n",
      "starting level 3, ending level 5\n",
      "Level 3\n",
      "Piecewise Affine Setup: size = 16, 16, 8; vsize = 14, 14, 18\n",
      "pDim = 24576; scalings : img = 0.06, prior = 0.09, reg = 0.036; ftol = 0.002\n",
      "before : sum = 6167.98, img = 102800, prior = 0, reg = 0\n",
      "iter 0: sum = 6167.98, img = 102800, prior = 0, reg = 0\n",
      "iter 1: sum = 5928.02, img = 96076.7, prior = 32.0696, reg = 4459.38\n",
      "iter 2: sum = 5877.12, img = 96974.8, prior = 45.9577, reg = 1513.93\n",
      "iter 3: sum = 5812.64, img = 95621.4, prior = 157.478, reg = 1699.65\n",
      "iter 4: sum = 5754.11, img = 93164.1, prior = 503.623, reg = 3303.78\n",
      "iter 5: sum = 5600.43, img = 90250.5, prior = 894.094, reg = 2914.83\n",
      "iter 6: sum = 5510.41, img = 88055, prior = 1065.02, reg = 3646.02\n",
      "iter 7: sum = 5484.16, img = 87587.6, prior = 1138.76, reg = 3511.4\n",
      "iter 8: sum = 5462.62, img = 87474.7, prior = 1198.04, reg = 2953.28\n",
      "iter 9: sum = 5433.18, img = 87122, prior = 1202.79, reg = 2711.26\n",
      "iter 10: sum = 5407.05, img = 86703.2, prior = 1204.37, reg = 2679.57\n",
      "iter 11: sum = 5384.6, img = 86516.5, prior = 1203.22, reg = 2370.21\n",
      "iter 12: sum = 5368.83, img = 86153.9, prior = 1220.1, reg = 2494.16\n",
      "iter 13: sum = 5347.15, img = 85360.9, prior = 1289.87, reg = 3039.13\n",
      "iter 14: sum = 5324.5, img = 84667.3, prior = 1414.86, reg = 3253.68\n",
      "iter 15: sum = 5306.5, img = 84375.5, prior = 1502.47, reg = 3020.84\n",
      "iter 16: sum = 5290.74, img = 84081.4, prior = 1557.86, reg = 2934.75\n",
      "iter 17: sum = 5277.88, img = 83784.4, prior = 1622.66, reg = 2910.34\n"
     ]
    },
    {
     "name": "stdout",
     "output_type": "stream",
     "text": [
      "iter 18: sum = 5267.96, img = 83689.5, prior = 1661.05, reg = 2697.26\n",
      "iter = 139, iterGrad = 19\n",
      "after : sum = 5263.43, img = 83679.4, prior = 1640.25, reg = 2640.43\n",
      "Level 4\n",
      "Piecewise Affine Setup: size = 32, 32, 16; vsize = 7, 7, 9\n",
      "pDim = 196608; scalings : img = 0.06, prior = 0.09, reg = 0.036; ftol = 0.002\n",
      "before : sum = 5263.43, img = 83679.9, prior = 1641.19, reg = 2636.95\n",
      "iter 0: sum = 5263.43, img = 83679.9, prior = 1641.19, reg = 2636.95\n",
      "iter 1: sum = 5139.77, img = 81642.5, prior = 1452.44, reg = 3069.35\n",
      "iter 2: sum = 5106.01, img = 81491, prior = 1431.68, reg = 2436.18\n",
      "iter 3: sum = 5070.48, img = 80078.8, prior = 1478.02, reg = 3686.78\n",
      "iter 4: sum = 5052.26, img = 79145.1, prior = 1592.84, reg = 4449.94\n",
      "iter 5: sum = 5040.77, img = 78782, prior = 1739.4, reg = 4369.52\n",
      "iter 6: sum = 5033.11, img = 78611.5, prior = 1867.75, reg = 4120.03\n",
      "iter = 57, iterGrad = 7\n",
      "after : sum = 5031.32, img = 78615.2, prior = 1867.12, reg = 4066\n",
      "Level 5\n",
      "Piecewise Affine Setup: size = 64, 64, 32; vsize = 3.5, 3.5, 4.5\n",
      "pDim = 1572864; scalings : img = 0.06, prior = 0.09, reg = 0.036; ftol = 0.002\n",
      "before : sum = 5031.32, img = 78615, prior = 1867.12, reg = 4066.23\n",
      "iter 0: sum = 5031.32, img = 78615, prior = 1867.12, reg = 4066.23\n",
      "iter 1: sum = 4893.97, img = 76473.7, prior = 1728.92, reg = 4165.07\n",
      "iter 2: sum = 4853.83, img = 76206, prior = 1658.47, reg = 3672.27\n",
      "iter 3: sum = 4775.01, img = 73664.8, prior = 1498.71, reg = 6117.62\n",
      "iter 4: sum = 4732.16, img = 71963.5, prior = 1505.98, reg = 7744.75\n",
      "iter 5: sum = 4715.94, img = 71544, prior = 1593.99, reg = 7773.45\n",
      "iter 6: sum = 4696.75, img = 71119.3, prior = 1799.5, reg = 7434.46\n",
      "iter 7: sum = 4685.57, img = 70854, prior = 1975.33, reg = 7126.43\n",
      "iter 8: sum = 4675.96, img = 70434.9, prior = 2125.91, reg = 7181.57\n",
      "iter 9: sum = 4666.91, img = 69813.8, prior = 2309.26, reg = 7506.89\n",
      "iter = 81, iterGrad = 10\n",
      "after : sum = 4663.17, img = 69838.2, prior = 2302.66, reg = 7379.25\n",
      "Little Endian System\n",
      "Writing VECTORS ...\n",
      "size is currently determined internally.\n",
      "vsize = 1, 1, 1\n",
      "origin is currently default to [0, 0, 0].\n",
      "outFile = dti_dtitk_aff_to_ixi_aging_template.5.df.nii.gz\n",
      "Little Endian System\n",
      "Reading VECTORS ...\n",
      "Writing dti_dtitk_aff_to_ixi_aging_template.5.df.nii.gz ... Done in 3.18571s\n",
      "converting to the diffeomorphic deformation field: ...\n",
      "Reading dti_dtitk_aff_to_ixi_aging_template.5.df.nii.gz ... Done in 0.436181s\n",
      "Gaussian smoothing: sigma = [   1,    1,    1] ... Done in 0.957s\n",
      "Gaussian smoothing: sigma = [   1,    1,    1] ... Done in 0.921s\n",
      "maxNorm = 5.78\titerations = 11\n",
      "Voxelwise scaling dti_dtitk_aff_to_ixi_aging_template.5.df.nii.gz by 0.000488 ... Done in 0.0212s\n",
      ". . . . . . . . . . . \n",
      "Writing dti_dtitk_aff_to_ixi_aging_template.5.df.nii.gz ... Done in 3.37s\n",
      "computing the deformation field: d2*d1: x -> d1(x) + d2(x + d1(x))\n",
      "Reading dti_dtitk_aff_to_ixi_aging_template.5.df.nii.gz ... Done in 0.449192s\n",
      "Reading dti_dtitk_aff_diffeo.df.nii.gz ... Done in 0.439979s\n",
      "Writing dti_dtitk_aff_to_ixi_aging_template.5.df.nii.gz ... Done in 3.30204s\n",
      "inFile = dti_dtitk_aff_to_ixi_aging_template.5.df.nii.gz\n",
      "Reading dti_dtitk_aff_to_ixi_aging_template.5.df.nii.gz ... Done in 0.44367s\n",
      "outFile = dti_dtitk_aff_to_ixi_aging_template.5.df_jac.nii.gz\n",
      "Writing dti_dtitk_aff_to_ixi_aging_template.5.df_jac.nii.gz ... Done in 2.28197s\n",
      "JACOBIAN STATISTICS: after previous iteration mean = 1.00953 min = 0.465046 max = 2.38828 # of voxels = 1.78546e+06 after current iteration mean = 1.00811 min = 0.228159 max = 3.72345 # of voxels = 1.78546e+06\n",
      "inFile = dti_dtitk_aff.nii.gz\n",
      "outFile = dti_dtitk_aff_diffeo_current.nii.gz\n",
      "transFile = dti_dtitk_aff_to_ixi_aging_template.5.df.nii.gz\n",
      "df option is FD\n",
      "interpolation option is LEI\n",
      "reorientOption = PPD\n",
      "Reading dti_dtitk_aff.nii.gz ... Done in 0.057806s\n",
      "Reading dti_dtitk_aff_to_ixi_aging_template.5.df.nii.gz ... Done in 0.541317s\n",
      "backward resampling ...time consumed = 1.58581\n",
      "Writing dti_dtitk_aff_diffeo_current.nii.gz ... Done in 0.565341s\n",
      "IMAGE SIMILARITY: after previous iteration = 102878 after current iteration = 86153.4\n",
      "iteration 2 done\n",
      "\n",
      "\n",
      "iteration 3 begins ...\n",
      "Similarity Measure : DDS, Reorient Option : FS\n",
      "Reading ixi_aging_template.nii.gz ... Done in 0.072717s\n",
      "Reading dti_dtitk_aff_diffeo.nii.gz ... Done in 0.069132s\n",
      "Reading ixi_aging_template_brain_mask.nii.gz ... Done in 0.001975s\n",
      "starting level 3, ending level 5\n",
      "Level 3\n",
      "Piecewise Affine Setup: size = 16, 16, 8; vsize = 14, 14, 18\n",
      "pDim = 24576; scalings : img = 0.06, prior = 0.08, reg = 0.032; ftol = 0.002\n",
      "before : sum = 5164.83, img = 86080.4, prior = 0, reg = 0\n",
      "iter 0: sum = 5164.83, img = 86080.4, prior = 0, reg = 0\n",
      "iter 1: sum = 4990.98, img = 81143.5, prior = 30.7977, reg = 3747.12\n",
      "iter 2: sum = 4959.84, img = 81925.1, prior = 35.1368, reg = 1297.47\n",
      "iter 3: sum = 4935.63, img = 81757.1, prior = 80.9805, reg = 741.403\n",
      "iter 4: sum = 4881.06, img = 79827, prior = 315.12, reg = 2069.77\n",
      "iter 5: sum = 4749.63, img = 75715.8, prior = 1027.96, reg = 3888.87\n",
      "iter 6: sum = 4642.46, img = 73955.7, prior = 1162.69, reg = 3503.11\n",
      "iter 7: sum = 4614.11, img = 73624.9, prior = 1144.45, reg = 3283.08\n",
      "iter 8: sum = 4597.69, img = 73714.2, prior = 1084.53, reg = 2752.41\n",
      "iter 9: sum = 4583.81, img = 73893.5, prior = 961.085, reg = 2290.94\n",
      "iter 10: sum = 4573.15, img = 74107.3, prior = 832.132, reg = 1879.6\n",
      "iter 11: sum = 4566.44, img = 74270.8, prior = 731.081, reg = 1615.61\n",
      "iter = 85, iterGrad = 12\n",
      "after : sum = 4563.37, img = 74214.6, prior = 729.815, reg = 1628.72\n",
      "Level 4\n",
      "Piecewise Affine Setup: size = 32, 32, 16; vsize = 7, 7, 9\n",
      "pDim = 196608; scalings : img = 0.06, prior = 0.08, reg = 0.032; ftol = 0.002\n",
      "before : sum = 4563.37, img = 74217.3, prior = 729.833, reg = 1623.36\n",
      "iter 0: sum = 4563.37, img = 74217.3, prior = 729.833, reg = 1623.36\n",
      "iter 1: sum = 4474.9, img = 72397.2, prior = 660.632, reg = 2444.43\n",
      "iter 2: sum = 4450.34, img = 72297.6, prior = 667.782, reg = 1845.83\n",
      "iter 3: sum = 4418.88, img = 70961.6, prior = 790.793, reg = 3060.06\n",
      "iter 4: sum = 4399.23, img = 69836.5, prior = 981.372, reg = 4079.08\n",
      "iter 5: sum = 4385.33, img = 69480.5, prior = 1117.19, reg = 3972.81\n",
      "iter 6: sum = 4374.02, img = 69292.4, prior = 1255.8, reg = 3625.57\n",
      "iter 7: sum = 4368.51, img = 69243.4, prior = 1309.76, reg = 3410.07\n",
      "iter = 66, iterGrad = 8\n",
      "after : sum = 4364.57, img = 69169, prior = 1284.07, reg = 3491.03\n",
      "Level 5\n",
      "Piecewise Affine Setup: size = 64, 64, 32; vsize = 3.5, 3.5, 4.5\n",
      "pDim = 1572864; scalings : img = 0.06, prior = 0.08, reg = 0.032; ftol = 0.002\n",
      "before : sum = 4364.57, img = 69165.1, prior = 1282.82, reg = 3501.06\n",
      "iter 0: sum = 4364.57, img = 69165.1, prior = 1282.82, reg = 3501.06\n",
      "iter 1: sum = 4244.56, img = 67059.2, prior = 1182.68, reg = 3949.95\n",
      "iter 2: sum = 4207.8, img = 66883.3, prior = 1139.25, reg = 3239.62\n",
      "iter 3: sum = 4141.61, img = 64762.5, prior = 1060.41, reg = 5344.75\n",
      "iter 4: sum = 4100.86, img = 63158.6, prior = 1104.86, reg = 6967.31\n",
      "iter 5: sum = 4086.11, img = 62966.5, prior = 1162.26, reg = 6723.23\n",
      "iter 6: sum = 4069.94, img = 62781.6, prior = 1294.61, reg = 6233.65\n",
      "iter 7: sum = 4060.84, img = 62690.6, prior = 1422.79, reg = 5799.39\n",
      "iter 8: sum = 4052.84, img = 62405.8, prior = 1518.22, reg = 5844.85\n",
      "iter = 73, iterGrad = 9\n",
      "after : sum = 4047.85, img = 62261.5, prior = 1516.77, reg = 5963.62\n",
      "Little Endian System\n",
      "Writing VECTORS ...\n",
      "size is currently determined internally.\n",
      "vsize = 1, 1, 1\n",
      "origin is currently default to [0, 0, 0].\n",
      "outFile = dti_dtitk_aff_to_ixi_aging_template.5.df.nii.gz\n",
      "Little Endian System\n",
      "Reading VECTORS ...\n",
      "Writing dti_dtitk_aff_to_ixi_aging_template.5.df.nii.gz ... Done in 2.84144s\n",
      "converting to the diffeomorphic deformation field: ...\n",
      "Reading dti_dtitk_aff_to_ixi_aging_template.5.df.nii.gz ... Done in 0.39867s\n",
      "Gaussian smoothing: sigma = [   1,    1,    1] ... Done in 0.96s\n",
      "Gaussian smoothing: sigma = [   1,    1,    1] ... Done in 0.92s\n",
      "maxNorm = 4.52\titerations = 9\n",
      "Voxelwise scaling dti_dtitk_aff_to_ixi_aging_template.5.df.nii.gz by 0.00195 ... Done in 0.0203s\n",
      ". . . . . . . . . \n",
      "Writing dti_dtitk_aff_to_ixi_aging_template.5.df.nii.gz ... Done in 3.14s\n",
      "computing the deformation field: d2*d1: x -> d1(x) + d2(x + d1(x))\n",
      "Reading dti_dtitk_aff_to_ixi_aging_template.5.df.nii.gz ... Done in 0.430525s\n"
     ]
    },
    {
     "name": "stdout",
     "output_type": "stream",
     "text": [
      "Reading dti_dtitk_aff_diffeo.df.nii.gz ... Done in 0.453651s\n",
      "Writing dti_dtitk_aff_to_ixi_aging_template.5.df.nii.gz ... Done in 3.38629s\n",
      "inFile = dti_dtitk_aff_to_ixi_aging_template.5.df.nii.gz\n",
      "Reading dti_dtitk_aff_to_ixi_aging_template.5.df.nii.gz ... Done in 0.464224s\n",
      "outFile = dti_dtitk_aff_to_ixi_aging_template.5.df_jac.nii.gz\n",
      "Writing dti_dtitk_aff_to_ixi_aging_template.5.df_jac.nii.gz ... Done in 2.27006s\n",
      "JACOBIAN STATISTICS: after previous iteration mean = 1.00811 min = 0.228159 max = 3.72345 # of voxels = 1.78546e+06 after current iteration mean = 1.0092 min = 0.121706 max = 5.52223 # of voxels = 1.78546e+06\n",
      "inFile = dti_dtitk_aff.nii.gz\n",
      "outFile = dti_dtitk_aff_diffeo_current.nii.gz\n",
      "transFile = dti_dtitk_aff_to_ixi_aging_template.5.df.nii.gz\n",
      "df option is FD\n",
      "interpolation option is LEI\n",
      "reorientOption = PPD\n",
      "Reading dti_dtitk_aff.nii.gz ... Done in 0.059701s\n",
      "Reading dti_dtitk_aff_to_ixi_aging_template.5.df.nii.gz ... Done in 0.455672s\n",
      "backward resampling ...time consumed = 1.65399\n",
      "Writing dti_dtitk_aff_diffeo_current.nii.gz ... Done in 0.587844s\n",
      "IMAGE SIMILARITY: after previous iteration = 86153.4 after current iteration = 76896.1\n",
      "iteration 3 done\n",
      "\n",
      "\n",
      "iteration 4 begins ...\n",
      "Similarity Measure : DDS, Reorient Option : FS\n",
      "Reading ixi_aging_template.nii.gz ... Done in 0.094875s\n",
      "Reading dti_dtitk_aff_diffeo.nii.gz ... Done in 0.071033s\n",
      "Reading ixi_aging_template_brain_mask.nii.gz ... Done in 0.00196s\n",
      "starting level 4, ending level 5\n",
      "Level 4\n",
      "Piecewise Affine Setup: size = 32, 32, 16; vsize = 7, 7, 9\n",
      "pDim = 196608; scalings : img = 0.06, prior = 0.07, reg = 0.028; ftol = 0.002\n",
      "before : sum = 4609.48, img = 76824.7, prior = 0, reg = 0\n",
      "iter 0: sum = 4609.48, img = 76824.7, prior = 0, reg = 0\n",
      "iter 1: sum = 4403.6, img = 71028, prior = 52.2827, reg = 4937.94\n",
      "iter 2: sum = 4372.08, img = 71726.2, prior = 61.518, reg = 2292.99\n",
      "iter 3: sum = 4324.58, img = 70731, prior = 202.085, reg = 2377.79\n",
      "iter 4: sum = 4275.53, img = 68522.3, prior = 653.252, reg = 4231\n",
      "iter 5: sum = 4166.53, img = 65709.8, prior = 1130.88, reg = 5170.68\n",
      "iter 6: sum = 4099.81, img = 63827.7, prior = 1296.73, reg = 6406.3\n",
      "iter 7: sum = 4066.51, img = 63616.4, prior = 1301.57, reg = 5657.73\n",
      "iter 8: sum = 4040.64, img = 63927.2, prior = 1254.79, reg = 4184.69\n",
      "iter 9: sum = 4018.8, img = 64027.9, prior = 1144.94, reg = 3463.66\n",
      "iter 10: sum = 4003.67, img = 64023.6, prior = 1023.2, reg = 3236.69\n",
      "iter 11: sum = 3987.23, img = 63977.8, prior = 912.58, reg = 3024.48\n",
      "iter 12: sum = 3971.6, img = 63627.7, prior = 868.4, reg = 3326.57\n",
      "iter 13: sum = 3956.14, img = 63128, prior = 883.436, reg = 3807.81\n",
      "iter 14: sum = 3936.65, img = 62655.8, prior = 972.196, reg = 3901.9\n",
      "iter 15: sum = 3916.28, img = 62307.9, prior = 1078.01, reg = 3655.43\n",
      "iter 16: sum = 3897.29, img = 61876.6, prior = 1187.23, reg = 3628.16\n",
      "iter 17: sum = 3880.17, img = 61329.7, prior = 1330.22, reg = 3831.32\n",
      "iter 18: sum = 3864.02, img = 60794.6, prior = 1504.56, reg = 3965.19\n",
      "iter 19: sum = 3852.44, img = 60445.5, prior = 1611.36, reg = 4032.56\n",
      "iter 20: sum = 3843.55, img = 60165.1, prior = 1671, reg = 4166.84\n",
      "iter 21: sum = 3834.98, img = 59965.9, prior = 1701.08, reg = 4212.48\n",
      "iter 22: sum = 3828.88, img = 59885.1, prior = 1708.33, reg = 4149.85\n",
      "iter = 187, iterGrad = 23\n",
      "after : sum = 3826.35, img = 59902.7, prior = 1694.48, reg = 4056.6\n",
      "Level 5\n",
      "Piecewise Affine Setup: size = 64, 64, 32; vsize = 3.5, 3.5, 4.5\n",
      "pDim = 1572864; scalings : img = 0.06, prior = 0.07, reg = 0.028; ftol = 0.002\n",
      "before : sum = 3826.35, img = 59903.7, prior = 1693.81, reg = 4055.86\n",
      "iter 0: sum = 3826.35, img = 59903.7, prior = 1693.81, reg = 4055.86\n",
      "iter 1: sum = 3712.14, img = 58064.9, prior = 1564.14, reg = 4241.5\n",
      "iter 2: sum = 3677.88, img = 57848.3, prior = 1501.09, reg = 3639.56\n",
      "iter 3: sum = 3618.39, img = 55989.6, prior = 1361.22, reg = 5847.36\n",
      "iter 4: sum = 3585.18, img = 54715.4, prior = 1361.12, reg = 7392.24\n",
      "iter 5: sum = 3573.17, img = 54427.2, prior = 1426.1, reg = 7418.31\n",
      "iter 6: sum = 3559.39, img = 54204.4, prior = 1571.86, reg = 7039.17\n",
      "iter 7: sum = 3551.9, img = 54101.6, prior = 1700, reg = 6671.65\n",
      "iter 8: sum = 3546.23, img = 53907.8, prior = 1807.91, reg = 6614.39\n",
      "iter = 73, iterGrad = 9\n",
      "after : sum = 3543.13, img = 53834, prior = 1805.47, reg = 6668.32\n",
      "Little Endian System\n",
      "Writing VECTORS ...\n",
      "size is currently determined internally.\n",
      "vsize = 1, 1, 1\n",
      "origin is currently default to [0, 0, 0].\n",
      "outFile = dti_dtitk_aff_to_ixi_aging_template.5.df.nii.gz\n",
      "Little Endian System\n",
      "Reading VECTORS ...\n",
      "Writing dti_dtitk_aff_to_ixi_aging_template.5.df.nii.gz ... Done in 2.5706s\n",
      "converting to the diffeomorphic deformation field: ...\n",
      "Reading dti_dtitk_aff_to_ixi_aging_template.5.df.nii.gz ... Done in 0.375009s\n",
      "Gaussian smoothing: sigma = [   1,    1,    1] ... Done in 0.988s\n",
      "Gaussian smoothing: sigma = [   1,    1,    1] ... Done in 0.954s\n",
      "maxNorm = 6.14\titerations = 12\n",
      "Voxelwise scaling dti_dtitk_aff_to_ixi_aging_template.5.df.nii.gz by 0.000244 ... Done in 0.0245s\n",
      ". . . . . . . . . . . . \n",
      "Writing dti_dtitk_aff_to_ixi_aging_template.5.df.nii.gz ... Done in 2.98s\n",
      "computing the deformation field: d2*d1: x -> d1(x) + d2(x + d1(x))\n",
      "Reading dti_dtitk_aff_to_ixi_aging_template.5.df.nii.gz ... Done in 0.410175s\n",
      "Reading dti_dtitk_aff_diffeo.df.nii.gz ... Done in 0.459579s\n",
      "Writing dti_dtitk_aff_to_ixi_aging_template.5.df.nii.gz ... Done in 3.39413s\n",
      "inFile = dti_dtitk_aff_to_ixi_aging_template.5.df.nii.gz\n",
      "Reading dti_dtitk_aff_to_ixi_aging_template.5.df.nii.gz ... Done in 0.477725s\n",
      "outFile = dti_dtitk_aff_to_ixi_aging_template.5.df_jac.nii.gz\n",
      "Writing dti_dtitk_aff_to_ixi_aging_template.5.df_jac.nii.gz ... Done in 2.09153s\n",
      "JACOBIAN STATISTICS: after previous iteration mean = 1.0092 min = 0.121706 max = 5.52223 # of voxels = 1.78546e+06 after current iteration mean = 1.0101 min = 0.0769133 max = 7.12102 # of voxels = 1.78546e+06\n",
      "inFile = dti_dtitk_aff.nii.gz\n",
      "outFile = dti_dtitk_aff_diffeo_current.nii.gz\n",
      "transFile = dti_dtitk_aff_to_ixi_aging_template.5.df.nii.gz\n",
      "df option is FD\n",
      "interpolation option is LEI\n",
      "reorientOption = PPD\n",
      "Reading dti_dtitk_aff.nii.gz ... Done in 0.057179s\n",
      "Reading dti_dtitk_aff_to_ixi_aging_template.5.df.nii.gz ... Done in 0.445986s\n",
      "backward resampling ...time consumed = 1.59281\n",
      "Writing dti_dtitk_aff_diffeo_current.nii.gz ... Done in 0.570853s\n",
      "IMAGE SIMILARITY: after previous iteration = 76896.1 after current iteration = 69149.5\n",
      "iteration 4 done\n",
      "\n",
      "\n",
      "iteration 5 begins ...\n",
      "Similarity Measure : DDS, Reorient Option : FS\n",
      "Reading ixi_aging_template.nii.gz ... Done in 0.072163s\n",
      "Reading dti_dtitk_aff_diffeo.nii.gz ... Done in 0.069338s\n",
      "Reading ixi_aging_template_brain_mask.nii.gz ... Done in 0.001883s\n",
      "starting level 4, ending level 5\n",
      "Level 4\n",
      "Piecewise Affine Setup: size = 32, 32, 16; vsize = 7, 7, 9\n",
      "pDim = 196608; scalings : img = 0.06, prior = 0.06, reg = 0.024; ftol = 0.002\n",
      "before : sum = 4144.77, img = 69079.5, prior = 0, reg = 0\n",
      "iter 0: sum = 4144.77, img = 69079.5, prior = 0, reg = 0\n",
      "iter 1: sum = 3943.53, img = 63614.5, prior = 47.6739, reg = 5158.29\n",
      "iter 2: sum = 3915.06, img = 64176.2, prior = 56.6856, reg = 2545.43\n",
      "iter 3: sum = 3879.66, img = 63562.6, prior = 172.266, reg = 2315.42\n",
      "iter 4: sum = 3828.66, img = 61447.1, prior = 642.655, reg = 4302.93\n",
      "iter 5: sum = 3728.87, img = 58442.1, prior = 1280.78, reg = 6062.18\n",
      "iter 6: sum = 3659.21, img = 56522.7, prior = 1514.62, reg = 7373.93\n",
      "iter 7: sum = 3623.78, img = 56450.1, prior = 1458.16, reg = 6220.16\n",
      "iter 8: sum = 3598.91, img = 56750.7, prior = 1352.38, reg = 4696.97\n",
      "iter 9: sum = 3580.51, img = 56926.9, prior = 1216.07, reg = 3830.56\n",
      "iter 10: sum = 3567.35, img = 56976.3, prior = 1074.82, reg = 3511.81\n",
      "iter 11: sum = 3553.38, img = 56945.8, prior = 930.871, reg = 3365.96\n",
      "iter 12: sum = 3541.2, img = 56733.4, prior = 868.565, reg = 3545.22\n",
      "iter 13: sum = 3529, img = 56396.5, prior = 850.968, reg = 3923.08\n",
      "iter 14: sum = 3509.96, img = 55906, prior = 908.841, reg = 4211.42\n",
      "iter 15: sum = 3488.3, img = 55462.9, prior = 1022.36, reg = 4132.52\n",
      "iter 16: sum = 3467.31, img = 55002.1, prior = 1148.78, reg = 4093.97\n",
      "iter 17: sum = 3447.5, img = 54550.7, prior = 1263.85, reg = 4109.4\n",
      "iter 18: sum = 3428.19, img = 54050.6, prior = 1404.17, reg = 4204.26\n",
      "iter 19: sum = 3413.23, img = 53580.6, prior = 1530.7, reg = 4439.84\n"
     ]
    },
    {
     "name": "stdout",
     "output_type": "stream",
     "text": [
      "iter 20: sum = 3402.87, img = 53283.1, prior = 1608.97, reg = 4556.17\n",
      "iter 21: sum = 3394.37, img = 53138.6, prior = 1661.7, reg = 4431.24\n",
      "iter 22: sum = 3387.91, img = 53080.5, prior = 1675.19, reg = 4273.72\n",
      "iter = 187, iterGrad = 23\n",
      "after : sum = 3385.3, img = 53067.5, prior = 1655.89, reg = 4246.28\n",
      "Level 5\n",
      "Piecewise Affine Setup: size = 64, 64, 32; vsize = 3.5, 3.5, 4.5\n",
      "pDim = 1572864; scalings : img = 0.06, prior = 0.06, reg = 0.024; ftol = 0.002\n",
      "before : sum = 3385.3, img = 53066.9, prior = 1654.93, reg = 4249.65\n",
      "iter 0: sum = 3385.3, img = 53066.9, prior = 1654.93, reg = 4249.65\n",
      "iter 1: sum = 3275.25, img = 51209.6, prior = 1529.06, reg = 4622.02\n",
      "iter 2: sum = 3242.28, img = 50999.7, prior = 1468.89, reg = 3923.59\n",
      "iter 3: sum = 3187.36, img = 49300.3, prior = 1345.93, reg = 6191.2\n",
      "iter 4: sum = 3157.14, img = 48198.6, prior = 1354.09, reg = 7665.85\n",
      "iter 5: sum = 3145.54, img = 47913.9, prior = 1419.56, reg = 7730.39\n",
      "iter 6: sum = 3133.03, img = 47681.5, prior = 1554.99, reg = 7451.48\n",
      "iter 7: sum = 3126.22, img = 47567.1, prior = 1669, reg = 7169.02\n",
      "iter 8: sum = 3121.48, img = 47420.5, prior = 1760.78, reg = 7108.18\n",
      "iter = 73, iterGrad = 9\n",
      "after : sum = 3118.86, img = 47350.4, prior = 1761.52, reg = 7173.38\n",
      "Little Endian System\n",
      "Writing VECTORS ...\n",
      "size is currently determined internally.\n",
      "vsize = 1, 1, 1\n",
      "origin is currently default to [0, 0, 0].\n",
      "outFile = dti_dtitk_aff_to_ixi_aging_template.5.df.nii.gz\n",
      "Little Endian System\n",
      "Reading VECTORS ...\n",
      "Writing dti_dtitk_aff_to_ixi_aging_template.5.df.nii.gz ... Done in 2.52776s\n",
      "converting to the diffeomorphic deformation field: ...\n",
      "Reading dti_dtitk_aff_to_ixi_aging_template.5.df.nii.gz ... Done in 0.362527s\n",
      "Gaussian smoothing: sigma = [   1,    1,    1] ... Done in 0.966s\n",
      "Gaussian smoothing: sigma = [   1,    1,    1] ... Done in 0.929s\n",
      "maxNorm = 5.44\titerations = 10\n",
      "Voxelwise scaling dti_dtitk_aff_to_ixi_aging_template.5.df.nii.gz by 0.000977 ... Done in 0.0214s\n",
      ". . . . . . . . . . \n",
      "Writing dti_dtitk_aff_to_ixi_aging_template.5.df.nii.gz ... Done in 2.78s\n",
      "computing the deformation field: d2*d1: x -> d1(x) + d2(x + d1(x))\n",
      "Reading dti_dtitk_aff_to_ixi_aging_template.5.df.nii.gz ... Done in 0.392494s\n",
      "Reading dti_dtitk_aff_diffeo.df.nii.gz ... Done in 0.438652s\n",
      "Writing dti_dtitk_aff_to_ixi_aging_template.5.df.nii.gz ... Done in 3.30283s\n",
      "inFile = dti_dtitk_aff_to_ixi_aging_template.5.df.nii.gz\n",
      "Reading dti_dtitk_aff_to_ixi_aging_template.5.df.nii.gz ... Done in 0.471195s\n",
      "outFile = dti_dtitk_aff_to_ixi_aging_template.5.df_jac.nii.gz\n",
      "Writing dti_dtitk_aff_to_ixi_aging_template.5.df_jac.nii.gz ... Done in 2.07353s\n",
      "JACOBIAN STATISTICS: after previous iteration mean = 1.0101 min = 0.0769133 max = 7.12102 # of voxels = 1.78546e+06 after current iteration mean = 1.00917 min = 0.0568861 max = 9.10667 # of voxels = 1.78546e+06\n",
      "inFile = dti_dtitk_aff.nii.gz\n",
      "outFile = dti_dtitk_aff_diffeo_current.nii.gz\n",
      "transFile = dti_dtitk_aff_to_ixi_aging_template.5.df.nii.gz\n",
      "df option is FD\n",
      "interpolation option is LEI\n",
      "reorientOption = PPD\n",
      "Reading dti_dtitk_aff.nii.gz ... Done in 0.055901s\n",
      "Reading dti_dtitk_aff_to_ixi_aging_template.5.df.nii.gz ... Done in 0.446184s\n",
      "backward resampling ...time consumed = 1.58941\n",
      "Writing dti_dtitk_aff_diffeo_current.nii.gz ... Done in 0.569774s\n",
      "IMAGE SIMILARITY: after previous iteration = 69149.5 after current iteration = 63085.3\n",
      "iteration 5 done\n",
      "\n",
      "ending at Sun 15 Aug 2021 04:01:20 PM IST\n"
     ]
    }
   ],
   "source": [
    "# Really important to check that the mask is appropriate before embarking on the next most time-consuming step.\n",
    "# !dti_diffeomorphic_population mean_affine3.nii.gz subjects_list_aff.txt mask.nii.gz 0.002 \n",
    "\n",
    "\n",
    "!dti_diffeomorphic_reg {template_path} {dtitk_aff_path} {template_mask_path} 1 5 0.002"
   ]
  },
  {
   "cell_type": "code",
   "execution_count": null,
   "metadata": {},
   "outputs": [],
   "source": [
    "!VolumeInfo mean_affine3.nii.gz"
   ]
  },
  {
   "cell_type": "code",
   "execution_count": null,
   "metadata": {},
   "outputs": [],
   "source": [
    "!VolumeInfo {template_path}"
   ]
  },
  {
   "cell_type": "code",
   "execution_count": 45,
   "metadata": {
    "ExecuteTime": {
     "end_time": "2021-08-15T13:57:59.712853Z",
     "start_time": "2021-08-15T13:57:59.596213Z"
    },
    "scrolled": true
   },
   "outputs": [
    {
     "name": "stdout",
     "output_type": "stream",
     "text": [
      "** ERROR (nifti_image_read): failed to find header file for 'dti_dtitk_aff_diffeo.nii.gz'\r\n"
     ]
    }
   ],
   "source": [
    "!TVglyphView -in dti_dtitk_aff_diffeo.nii.gz"
   ]
  },
  {
   "cell_type": "code",
   "execution_count": 44,
   "metadata": {
    "ExecuteTime": {
     "end_time": "2021-08-15T13:57:57.691414Z",
     "start_time": "2021-08-15T13:57:48.106836Z"
    }
   },
   "outputs": [
    {
     "name": "stdout",
     "output_type": "stream",
     "text": [
      "Reading /home/virk/Downloads/dtitk_samples/runtime/tensor_aff_diffeo.nii.gz ... Done in 0.077252s\n",
      "press the key 'H' to print a list of the available control keystrokes\n",
      "total number of colors = 262144\n",
      "processing the selected axial slice ... done rendering \n"
     ]
    }
   ],
   "source": [
    "!TVglyphView -in /home/virk/Downloads/dtitk_samples/runtime/tensor_aff_diffeo.nii.gz"
   ]
  },
  {
   "cell_type": "code",
   "execution_count": 46,
   "metadata": {
    "ExecuteTime": {
     "end_time": "2021-08-15T13:58:08.340295Z",
     "start_time": "2021-08-15T13:58:08.226410Z"
    }
   },
   "outputs": [
    {
     "name": "stdout",
     "output_type": "stream",
     "text": [
      " dti_dtitk.nii.gz\r\n",
      " dti_dtitk_nonSPD.nii.gz\r\n",
      " dti_dtitk_norm.nii.gz\r\n",
      " dti_dtitk_norm_non_outliers.nii.gz\r\n",
      " dti_dtitk_scaled.nii.gz\r\n",
      " dti_dtitk_scaled_nonSPD.nii.gz\r\n",
      " dti_dtitk_scaled_spd.aff\r\n",
      " dti_dtitk_scaled_spd_aff.nii.gz\r\n",
      " dti_dtitk_scaled_spd.nii.gz\r\n",
      " dti_dtitk_scaled_spd_norm.nii.gz\r\n",
      " DTI_ITC.ipynb\r\n",
      " dti_L1.nii.gz\r\n",
      " dti_L2.nii.gz\r\n",
      " dti_L3.nii.gz\r\n",
      "'DTI-TK image registration_ALL_STEPS.ipynb'\r\n",
      "'DTI-TK image registration example.ipynb'\r\n",
      "'DTI-TK image registration.ipynb'\r\n",
      " dti_V1.nii.gz\r\n",
      " dti_V2.nii.gz\r\n",
      " dti_V3.nii.gz\r\n",
      " ixi_aging_template_brain_mask.nii.gz\r\n",
      " ixi_aging_template.nii.gz\r\n",
      " mean_initial.nii.gz\r\n",
      " reference_axial_tensor.png\r\n",
      " reference_coronal_tensor.png\r\n",
      " subjects_list_aff_diffeo.txt\r\n",
      " subjects_list_aff.txt\r\n",
      " subjects_list.txt\r\n"
     ]
    }
   ],
   "source": [
    "!ls"
   ]
  },
  {
   "cell_type": "code",
   "execution_count": null,
   "metadata": {},
   "outputs": [],
   "source": []
  }
 ],
 "metadata": {
  "interpreter": {
   "hash": "578ec9caf8cc242a4c89e04db44ac9c7b7fb212b1d2b4d4eaf8e4d24b84632db"
  },
  "kernelspec": {
   "display_name": "Python 3 (ipykernel)",
   "language": "python",
   "name": "python3"
  },
  "language_info": {
   "codemirror_mode": {
    "name": "ipython",
    "version": 3
   },
   "file_extension": ".py",
   "mimetype": "text/x-python",
   "name": "python",
   "nbconvert_exporter": "python",
   "pygments_lexer": "ipython3",
   "version": "3.8.10"
  },
  "latex_envs": {
   "LaTeX_envs_menu_present": true,
   "autoclose": false,
   "autocomplete": true,
   "bibliofile": "biblio.bib",
   "cite_by": "apalike",
   "current_citInitial": 1,
   "eqLabelWithNumbers": true,
   "eqNumInitial": 1,
   "hotkeys": {
    "equation": "Ctrl-E",
    "itemize": "Ctrl-I"
   },
   "labels_anchors": false,
   "latex_user_defs": false,
   "report_style_numbering": false,
   "user_envs_cfg": false
  }
 },
 "nbformat": 4,
 "nbformat_minor": 2
}
