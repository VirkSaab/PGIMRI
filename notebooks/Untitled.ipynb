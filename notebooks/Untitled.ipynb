{
 "cells": [
  {
   "cell_type": "markdown",
   "id": "b0722954",
   "metadata": {
    "ExecuteTime": {
     "end_time": "2021-09-27T05:34:46.884935Z",
     "start_time": "2021-09-27T05:34:46.758997Z"
    }
   },
   "source": [
    "# Resample Template to MNI152 T1 space"
   ]
  },
  {
   "cell_type": "code",
   "execution_count": 13,
   "id": "24beca82",
   "metadata": {
    "ExecuteTime": {
     "end_time": "2021-09-27T05:50:23.728529Z",
     "start_time": "2021-09-27T05:50:22.023632Z"
    }
   },
   "outputs": [],
   "source": [
    "!flirt -in ../../FinalTemplateT2.nii.gz -out ../../template_resampled.nii.gz -applyisoxfm 1 -ref $FSLDIR/data/standard/MNI152_T1_1mm_brain.nii.gz"
   ]
  },
  {
   "cell_type": "code",
   "execution_count": 14,
   "id": "06c88ccc",
   "metadata": {
    "ExecuteTime": {
     "end_time": "2021-09-27T05:50:25.402462Z",
     "start_time": "2021-09-27T05:50:23.733983Z"
    }
   },
   "outputs": [],
   "source": [
    "!flirt -in ../../44.nii.gz -out ../../44_resampled.nii.gz -applyisoxfm 1 -ref $FSLDIR/data/standard/MNI152_T1_1mm_brain.nii.gz"
   ]
  },
  {
   "cell_type": "code",
   "execution_count": 12,
   "id": "edbc70f6",
   "metadata": {
    "ExecuteTime": {
     "end_time": "2021-09-27T05:41:40.918856Z",
     "start_time": "2021-09-27T05:41:40.915973Z"
    }
   },
   "outputs": [],
   "source": [
    "template_path = \"../../FinalTemplateT2.nii.gz\"\n",
    "resampled_template_path = \"../../template_resampled.nii.gz\"\n",
    "\n",
    "atlas_path = \"../../44.nii.gz\"\n",
    "resampled_atlas_path = \"../../44_resampled.nii.gz\""
   ]
  },
  {
   "cell_type": "markdown",
   "id": "0080e543",
   "metadata": {},
   "source": []
  }
 ],
 "metadata": {
  "kernelspec": {
   "display_name": "Python 3 (ipykernel)",
   "language": "python",
   "name": "python3"
  },
  "language_info": {
   "codemirror_mode": {
    "name": "ipython",
    "version": 3
   },
   "file_extension": ".py",
   "mimetype": "text/x-python",
   "name": "python",
   "nbconvert_exporter": "python",
   "pygments_lexer": "ipython3",
   "version": "3.8.10"
  },
  "latex_envs": {
   "LaTeX_envs_menu_present": true,
   "autoclose": false,
   "autocomplete": true,
   "bibliofile": "biblio.bib",
   "cite_by": "apalike",
   "current_citInitial": 1,
   "eqLabelWithNumbers": true,
   "eqNumInitial": 1,
   "hotkeys": {
    "equation": "Ctrl-E",
    "itemize": "Ctrl-I"
   },
   "labels_anchors": false,
   "latex_user_defs": false,
   "report_style_numbering": false,
   "user_envs_cfg": false
  }
 },
 "nbformat": 4,
 "nbformat_minor": 5
}
